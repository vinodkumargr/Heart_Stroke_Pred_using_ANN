{
 "cells": [
  {
   "cell_type": "markdown",
   "id": "4437a980",
   "metadata": {},
   "source": [
    "# Data Pre-Processing"
   ]
  },
  {
   "cell_type": "markdown",
   "id": "74b4d7e0",
   "metadata": {},
   "source": [
    "#### Import Packages and CSV"
   ]
  },
  {
   "cell_type": "code",
   "execution_count": 1,
   "id": "5530cc59",
   "metadata": {},
   "outputs": [
    {
     "name": "stdout",
     "output_type": "stream",
     "text": [
      "(5110, 12)\n"
     ]
    }
   ],
   "source": [
    "import pandas as pd\n",
    "import numpy as np\n",
    "import matplotlib.pyplot as plt\n",
    "import seaborn as sns\n",
    "import warnings\n",
    "warnings.filterwarnings(\"ignore\")\n",
    "pd.pandas.set_option(\"display.max_columns\", None)\n",
    "# Create Dataframe\n",
    "df = pd.read_csv(r\"/home/vinod/projects_1/Heart_Stroke_ANN/notebooks/data/healthcare-dataset-stroke-data.csv\")\n",
    "# Print shape of dataset\n",
    "print(df.shape)"
   ]
  },
  {
   "cell_type": "code",
   "execution_count": 2,
   "id": "9d024d09",
   "metadata": {},
   "outputs": [
    {
     "data": {
      "text/html": [
       "<div>\n",
       "<style scoped>\n",
       "    .dataframe tbody tr th:only-of-type {\n",
       "        vertical-align: middle;\n",
       "    }\n",
       "\n",
       "    .dataframe tbody tr th {\n",
       "        vertical-align: top;\n",
       "    }\n",
       "\n",
       "    .dataframe thead th {\n",
       "        text-align: right;\n",
       "    }\n",
       "</style>\n",
       "<table border=\"1\" class=\"dataframe\">\n",
       "  <thead>\n",
       "    <tr style=\"text-align: right;\">\n",
       "      <th></th>\n",
       "      <th>id</th>\n",
       "      <th>gender</th>\n",
       "      <th>age</th>\n",
       "      <th>hypertension</th>\n",
       "      <th>heart_disease</th>\n",
       "      <th>ever_married</th>\n",
       "      <th>work_type</th>\n",
       "      <th>Residence_type</th>\n",
       "      <th>avg_glucose_level</th>\n",
       "      <th>bmi</th>\n",
       "      <th>smoking_status</th>\n",
       "      <th>stroke</th>\n",
       "    </tr>\n",
       "  </thead>\n",
       "  <tbody>\n",
       "    <tr>\n",
       "      <th>0</th>\n",
       "      <td>9046</td>\n",
       "      <td>Male</td>\n",
       "      <td>67.0</td>\n",
       "      <td>0</td>\n",
       "      <td>1</td>\n",
       "      <td>Yes</td>\n",
       "      <td>Private</td>\n",
       "      <td>Urban</td>\n",
       "      <td>228.69</td>\n",
       "      <td>36.6</td>\n",
       "      <td>formerly smoked</td>\n",
       "      <td>1</td>\n",
       "    </tr>\n",
       "    <tr>\n",
       "      <th>1</th>\n",
       "      <td>51676</td>\n",
       "      <td>Female</td>\n",
       "      <td>61.0</td>\n",
       "      <td>0</td>\n",
       "      <td>0</td>\n",
       "      <td>Yes</td>\n",
       "      <td>Self-employed</td>\n",
       "      <td>Rural</td>\n",
       "      <td>202.21</td>\n",
       "      <td>NaN</td>\n",
       "      <td>never smoked</td>\n",
       "      <td>1</td>\n",
       "    </tr>\n",
       "    <tr>\n",
       "      <th>2</th>\n",
       "      <td>31112</td>\n",
       "      <td>Male</td>\n",
       "      <td>80.0</td>\n",
       "      <td>0</td>\n",
       "      <td>1</td>\n",
       "      <td>Yes</td>\n",
       "      <td>Private</td>\n",
       "      <td>Rural</td>\n",
       "      <td>105.92</td>\n",
       "      <td>32.5</td>\n",
       "      <td>never smoked</td>\n",
       "      <td>1</td>\n",
       "    </tr>\n",
       "    <tr>\n",
       "      <th>3</th>\n",
       "      <td>60182</td>\n",
       "      <td>Female</td>\n",
       "      <td>49.0</td>\n",
       "      <td>0</td>\n",
       "      <td>0</td>\n",
       "      <td>Yes</td>\n",
       "      <td>Private</td>\n",
       "      <td>Urban</td>\n",
       "      <td>171.23</td>\n",
       "      <td>34.4</td>\n",
       "      <td>smokes</td>\n",
       "      <td>1</td>\n",
       "    </tr>\n",
       "    <tr>\n",
       "      <th>4</th>\n",
       "      <td>1665</td>\n",
       "      <td>Female</td>\n",
       "      <td>79.0</td>\n",
       "      <td>1</td>\n",
       "      <td>0</td>\n",
       "      <td>Yes</td>\n",
       "      <td>Self-employed</td>\n",
       "      <td>Rural</td>\n",
       "      <td>174.12</td>\n",
       "      <td>24.0</td>\n",
       "      <td>never smoked</td>\n",
       "      <td>1</td>\n",
       "    </tr>\n",
       "  </tbody>\n",
       "</table>\n",
       "</div>"
      ],
      "text/plain": [
       "      id  gender   age  hypertension  heart_disease ever_married   \n",
       "0   9046    Male  67.0             0              1          Yes  \\\n",
       "1  51676  Female  61.0             0              0          Yes   \n",
       "2  31112    Male  80.0             0              1          Yes   \n",
       "3  60182  Female  49.0             0              0          Yes   \n",
       "4   1665  Female  79.0             1              0          Yes   \n",
       "\n",
       "       work_type Residence_type  avg_glucose_level   bmi   smoking_status   \n",
       "0        Private          Urban             228.69  36.6  formerly smoked  \\\n",
       "1  Self-employed          Rural             202.21   NaN     never smoked   \n",
       "2        Private          Rural             105.92  32.5     never smoked   \n",
       "3        Private          Urban             171.23  34.4           smokes   \n",
       "4  Self-employed          Rural             174.12  24.0     never smoked   \n",
       "\n",
       "   stroke  \n",
       "0       1  \n",
       "1       1  \n",
       "2       1  \n",
       "3       1  \n",
       "4       1  "
      ]
     },
     "execution_count": 2,
     "metadata": {},
     "output_type": "execute_result"
    }
   ],
   "source": [
    "# First 5 rows of the dataset\n",
    "df.head()"
   ]
  },
  {
   "cell_type": "markdown",
   "id": "c27265bd",
   "metadata": {},
   "source": [
    "## Data Cleaning"
   ]
  },
  {
   "cell_type": "markdown",
   "id": "40b4a428",
   "metadata": {},
   "source": [
    "#### Check Null Values"
   ]
  },
  {
   "cell_type": "code",
   "execution_count": 3,
   "id": "2b94aa8f",
   "metadata": {},
   "outputs": [
    {
     "name": "stdout",
     "output_type": "stream",
     "text": [
      "bmi 3.93346 % missing values\n"
     ]
    }
   ],
   "source": [
    "##these are the features with nan value\n",
    "features_with_na=[features for features in df.columns if df[features].isnull().sum()>=1]\n",
    "for feature in features_with_na:\n",
    "    print(feature,np.round(df[feature].isnull().mean()*100,5), '% missing values')"
   ]
  },
  {
   "cell_type": "markdown",
   "id": "76eafe12",
   "metadata": {},
   "source": [
    "### 3.2 Other Data Cleaning steps"
   ]
  },
  {
   "cell_type": "markdown",
   "id": "471fd48f",
   "metadata": {},
   "source": [
    "**Handling Duplicates**"
   ]
  },
  {
   "cell_type": "code",
   "execution_count": 4,
   "id": "d8fa17e0",
   "metadata": {},
   "outputs": [
    {
     "data": {
      "text/plain": [
       "0"
      ]
     },
     "execution_count": 4,
     "metadata": {},
     "output_type": "execute_result"
    }
   ],
   "source": [
    "# Checking for duplicates\n",
    "df.duplicated().sum()"
   ]
  },
  {
   "cell_type": "markdown",
   "id": "5cf6d275",
   "metadata": {},
   "source": [
    "**Remove ID from the dataset as it cannot used in Model Training**\n",
    "\n",
    "**As a Report form the EDA we can drop `gender` and `Resident_type` as well**"
   ]
  },
  {
   "cell_type": "code",
   "execution_count": 5,
   "id": "828c0a89",
   "metadata": {},
   "outputs": [],
   "source": [
    "df.drop(['id', 'gender', 'Residence_type'], inplace=True, axis=1)"
   ]
  },
  {
   "cell_type": "markdown",
   "id": "6d48a184",
   "metadata": {},
   "source": [
    "# Feature Engineering"
   ]
  },
  {
   "cell_type": "markdown",
   "id": "66542de1",
   "metadata": {},
   "source": [
    "### Type of Features"
   ]
  },
  {
   "cell_type": "code",
   "execution_count": 6,
   "id": "baff199f",
   "metadata": {},
   "outputs": [
    {
     "name": "stdout",
     "output_type": "stream",
     "text": [
      "Num of Numerical Features : 6\n"
     ]
    },
    {
     "data": {
      "text/plain": [
       "['age', 'hypertension', 'heart_disease', 'avg_glucose_level', 'bmi', 'stroke']"
      ]
     },
     "execution_count": 6,
     "metadata": {},
     "output_type": "execute_result"
    }
   ],
   "source": [
    "numeric_features = [feature for feature in df.columns if df[feature].dtype != 'O']\n",
    "print('Num of Numerical Features :', len(numeric_features))\n",
    "numeric_features"
   ]
  },
  {
   "cell_type": "code",
   "execution_count": 7,
   "id": "ff997805",
   "metadata": {},
   "outputs": [
    {
     "name": "stdout",
     "output_type": "stream",
     "text": [
      "Num of Categorical Features : 3\n"
     ]
    },
    {
     "data": {
      "text/plain": [
       "['ever_married', 'work_type', 'smoking_status']"
      ]
     },
     "execution_count": 7,
     "metadata": {},
     "output_type": "execute_result"
    }
   ],
   "source": [
    "categorical_features = [feature for feature in df.columns if df[feature].dtype == 'O']\n",
    "print('Num of Categorical Features :', len(categorical_features))\n",
    "categorical_features"
   ]
  },
  {
   "cell_type": "markdown",
   "id": "3ca43676",
   "metadata": {},
   "source": [
    "**Discrete Features**"
   ]
  },
  {
   "cell_type": "code",
   "execution_count": 8,
   "id": "812ee6e0",
   "metadata": {},
   "outputs": [
    {
     "name": "stdout",
     "output_type": "stream",
     "text": [
      "Num of Discrete Features : 3\n"
     ]
    },
    {
     "data": {
      "text/plain": [
       "['hypertension', 'heart_disease', 'stroke']"
      ]
     },
     "execution_count": 8,
     "metadata": {},
     "output_type": "execute_result"
    }
   ],
   "source": [
    "discrete_features=[feature for feature in numeric_features if (len(df[feature].unique())<=25)]\n",
    "print('Num of Discrete Features :',len(discrete_features))\n",
    "discrete_features"
   ]
  },
  {
   "cell_type": "markdown",
   "id": "3e6740bf",
   "metadata": {},
   "source": [
    "**Continuous features**"
   ]
  },
  {
   "cell_type": "code",
   "execution_count": 9,
   "id": "e501c72b",
   "metadata": {},
   "outputs": [
    {
     "name": "stdout",
     "output_type": "stream",
     "text": [
      "Num of Continuous Features : 3\n"
     ]
    },
    {
     "data": {
      "text/plain": [
       "['age', 'avg_glucose_level', 'bmi']"
      ]
     },
     "execution_count": 9,
     "metadata": {},
     "output_type": "execute_result"
    }
   ],
   "source": [
    "continuous_features=[feature for feature in numeric_features if len(df[feature].unique()) > 25]\n",
    "print('Num of Continuous Features :',len(continuous_features))\n",
    "continuous_features"
   ]
  },
  {
   "cell_type": "markdown",
   "id": "c1dedda3",
   "metadata": {},
   "source": [
    "**Imputing Null Values to Check VIF(Multi-Collinearity)**"
   ]
  },
  {
   "cell_type": "code",
   "execution_count": 10,
   "id": "0d745af3",
   "metadata": {},
   "outputs": [],
   "source": [
    "# Create copy of dataframe to check variance inflation factor\n",
    "df1 = df.copy()\n",
    "for i in continuous_features:\n",
    "    df1[i].fillna(df1[i].median(), inplace=True)"
   ]
  },
  {
   "cell_type": "markdown",
   "id": "7a9c40c8",
   "metadata": {},
   "source": [
    "### Multicollinearity Check\n",
    "#### Variance Inflation Factor (VIF)"
   ]
  },
  {
   "cell_type": "markdown",
   "id": "bcc04f4d",
   "metadata": {},
   "source": [
    "* Multicollinearity occurs when there are two or more independent variables in a multiple regression model, which have a high correlation among themselves. When some features are highly correlated.\n",
    "* Multicollinearity can be detected using various techniques, one such technique being the Variance Inflation Factor(VIF)."
   ]
  },
  {
   "cell_type": "code",
   "execution_count": 11,
   "id": "747d9a82",
   "metadata": {},
   "outputs": [],
   "source": [
    "from statsmodels.stats.outliers_influence import variance_inflation_factor\n",
    "def compute_vif(considered_features, df):\n",
    "    \n",
    "    X = df[considered_features]\n",
    "    # the calculation of variance inflation requires a constant\n",
    "    X['intercept'] = 1\n",
    "    \n",
    "    # create dataframe to store vif values\n",
    "    vif = pd.DataFrame()\n",
    "    vif[\"Variable\"] = X.columns\n",
    "    vif[\"VIF\"] = [variance_inflation_factor(X.values, i) for i in range(X.shape[1])]\n",
    "    vif = vif[vif['Variable']!='intercept']\n",
    "    return vif"
   ]
  },
  {
   "cell_type": "code",
   "execution_count": 12,
   "id": "a9509481",
   "metadata": {},
   "outputs": [
    {
     "data": {
      "text/html": [
       "<div>\n",
       "<style scoped>\n",
       "    .dataframe tbody tr th:only-of-type {\n",
       "        vertical-align: middle;\n",
       "    }\n",
       "\n",
       "    .dataframe tbody tr th {\n",
       "        vertical-align: top;\n",
       "    }\n",
       "\n",
       "    .dataframe thead th {\n",
       "        text-align: right;\n",
       "    }\n",
       "</style>\n",
       "<table border=\"1\" class=\"dataframe\">\n",
       "  <thead>\n",
       "    <tr style=\"text-align: right;\">\n",
       "      <th></th>\n",
       "      <th>Variable</th>\n",
       "      <th>VIF</th>\n",
       "    </tr>\n",
       "  </thead>\n",
       "  <tbody>\n",
       "    <tr>\n",
       "      <th>0</th>\n",
       "      <td>age</td>\n",
       "      <td>1.162810</td>\n",
       "    </tr>\n",
       "    <tr>\n",
       "      <th>1</th>\n",
       "      <td>avg_glucose_level</td>\n",
       "      <td>1.070325</td>\n",
       "    </tr>\n",
       "    <tr>\n",
       "      <th>2</th>\n",
       "      <td>bmi</td>\n",
       "      <td>1.128268</td>\n",
       "    </tr>\n",
       "  </tbody>\n",
       "</table>\n",
       "</div>"
      ],
      "text/plain": [
       "            Variable       VIF\n",
       "0                age  1.162810\n",
       "1  avg_glucose_level  1.070325\n",
       "2                bmi  1.128268"
      ]
     },
     "execution_count": 12,
     "metadata": {},
     "output_type": "execute_result"
    }
   ],
   "source": [
    "compute_vif(continuous_features, df1)"
   ]
  },
  {
   "cell_type": "markdown",
   "id": "482cfb4c",
   "metadata": {},
   "source": [
    " ” VIF determines the strength of the correlation between the independent variables. It is predicted by taking a variable and regressing it against every other variable “ \n",
    "\n",
    "VIF above 5 is indicator of Multicollinearity  \n",
    "\n",
    "**- This Dataset Doesnt have any Multicollinearity**"
   ]
  },
  {
   "cell_type": "markdown",
   "id": "d234a954",
   "metadata": {},
   "source": [
    "### Check Outlier and Capping it"
   ]
  },
  {
   "cell_type": "code",
   "execution_count": 13,
   "id": "8e580ec1",
   "metadata": {},
   "outputs": [
    {
     "data": {
      "image/png": "[encoded data removed]",
      "text/plain": [
       "<Figure size 1000x600 with 1 Axes>"
      ]
     },
     "metadata": {},
     "output_type": "display_data"
    },
    {
     "data": {
      "image/png": "[encoded data removed]",
      "text/plain": [
       "<Figure size 1000x600 with 1 Axes>"
      ]
     },
     "metadata": {},
     "output_type": "display_data"
    },
    {
     "data": {
      "image/png": "[encoded data removed]",
      "text/plain": [
       "<Figure size 1000x600 with 1 Axes>"
      ]
     },
     "metadata": {},
     "output_type": "display_data"
    }
   ],
   "source": [
    "for i in continuous_features:\n",
    "        plt.figure(figsize=(10,6))\n",
    "        sns.set_style('ticks')\n",
    "        ax = sns.boxplot(df[i])"
   ]
  },
  {
   "cell_type": "markdown",
   "id": "b2c78731",
   "metadata": {},
   "source": [
    "**Standard deviation method For Outlier Handling?**"
   ]
  },
  {
   "cell_type": "markdown",
   "id": "d1f7c760",
   "metadata": {},
   "source": [
    "- Outlier removal using standard deviation procedure.\n",
    "- Usually z-score =3 is considered as a cut-off value to set the limit. Therefore, any z-score greater than +3 or less than -3 is considered as outlier which is pretty much similar to standard deviation method.\n",
    "- Here we can remove outliers after 3rd standard deviation or z-score +3 and -3. used to remove only extreme outlier points"
   ]
  },
  {
   "cell_type": "code",
   "execution_count": 14,
   "id": "45fedab7",
   "metadata": {},
   "outputs": [],
   "source": [
    "def outlier_removal(column, df):\n",
    "    upper_limit = df[column].mean() + 3*df[column].std()\n",
    "    lower_limit = df[column].mean() - 3*df[column].std()\n",
    "    df = df[(df[column] < upper_limit) & (df[column] > lower_limit)]\n",
    "    return df"
   ]
  },
  {
   "cell_type": "code",
   "execution_count": 15,
   "id": "c233b8ff",
   "metadata": {},
   "outputs": [
    {
     "data": {
      "text/plain": [
       "(5110, 9)"
      ]
     },
     "execution_count": 15,
     "metadata": {},
     "output_type": "execute_result"
    }
   ],
   "source": [
    "df.shape"
   ]
  },
  {
   "cell_type": "code",
   "execution_count": 16,
   "id": "b43d27bf",
   "metadata": {},
   "outputs": [],
   "source": [
    "outlier_feature = ['bmi']"
   ]
  },
  {
   "cell_type": "code",
   "execution_count": 17,
   "id": "03a89ff1",
   "metadata": {},
   "outputs": [],
   "source": [
    "for i in range(len(outlier_feature)):\n",
    "    df = outlier_removal(outlier_feature[i], df)"
   ]
  },
  {
   "cell_type": "code",
   "execution_count": 18,
   "id": "de1cf3a9",
   "metadata": {
    "scrolled": false
   },
   "outputs": [
    {
     "data": {
      "image/png": "[encoded data removed]",
      "text/plain": [
       "<Figure size 1000x600 with 1 Axes>"
      ]
     },
     "metadata": {},
     "output_type": "display_data"
    },
    {
     "data": {
      "image/png": "[encoded data removed]",
      "text/plain": [
       "<Figure size 1000x600 with 1 Axes>"
      ]
     },
     "metadata": {},
     "output_type": "display_data"
    },
    {
     "data": {
      "image/png": "[encoded data removed]",
      "text/plain": [
       "<Figure size 1000x600 with 1 Axes>"
      ]
     },
     "metadata": {},
     "output_type": "display_data"
    }
   ],
   "source": [
    "for i in continuous_features:\n",
    "        plt.figure(figsize=(10,6))\n",
    "        sns.set_style('ticks')\n",
    "        ax = sns.boxplot(df[i])"
   ]
  },
  {
   "cell_type": "code",
   "execution_count": 19,
   "id": "ecdc226a",
   "metadata": {},
   "outputs": [
    {
     "data": {
      "text/plain": [
       "(4851, 9)"
      ]
     },
     "execution_count": 19,
     "metadata": {},
     "output_type": "execute_result"
    }
   ],
   "source": [
    "df.shape"
   ]
  },
  {
   "cell_type": "markdown",
   "id": "ca2d817d",
   "metadata": {},
   "source": [
    "## Feature Transformation"
   ]
  },
  {
   "cell_type": "code",
   "execution_count": 20,
   "id": "a9d716af",
   "metadata": {},
   "outputs": [
    {
     "data": {
      "text/plain": [
       "age                 -0.115593\n",
       "avg_glucose_level    1.626970\n",
       "bmi                  0.466922\n",
       "dtype: float64"
      ]
     },
     "execution_count": 20,
     "metadata": {},
     "output_type": "execute_result"
    }
   ],
   "source": [
    "df[continuous_features].skew(axis=0)"
   ]
  },
  {
   "cell_type": "markdown",
   "id": "1786c0ad",
   "metadata": {},
   "source": [
    "* **If Skewness is above 2 then the feature is Highly skewed**\n",
    "* **If Skewness is above 1.5 then the feature is Moderately skewed**"
   ]
  },
  {
   "cell_type": "code",
   "execution_count": 21,
   "id": "a921c3a0",
   "metadata": {
    "scrolled": false
   },
   "outputs": [
    {
     "data": {
      "image/png": "[encoded data removed]",
      "text/plain": [
       "<Figure size 1200x600 with 3 Axes>"
      ]
     },
     "metadata": {},
     "output_type": "display_data"
    }
   ],
   "source": [
    "# distribution of data before scaling\n",
    "plt.figure(figsize=(12, 6))\n",
    "for i, col in enumerate(continuous_features):\n",
    "    plt.subplot(2, 2, i+1)\n",
    "    sns.kdeplot(x=df1[col], color='indianred')\n",
    "    plt.xlabel(col)\n",
    "    plt.tight_layout()"
   ]
  },
  {
   "cell_type": "markdown",
   "id": "e956e76d",
   "metadata": {},
   "source": [
    "- **Here `avg_glucose_level` is slightly skewed**\n",
    "- **`age` column have kutosis and it is platykurtic**\n",
    "- **`bmi` is normally distributed with very little data on the tails**"
   ]
  },
  {
   "cell_type": "code",
   "execution_count": 22,
   "id": "6b094f98",
   "metadata": {},
   "outputs": [
    {
     "data": {
      "text/html": [
       "<div>\n",
       "<style scoped>\n",
       "    .dataframe tbody tr th:only-of-type {\n",
       "        vertical-align: middle;\n",
       "    }\n",
       "\n",
       "    .dataframe tbody tr th {\n",
       "        vertical-align: top;\n",
       "    }\n",
       "\n",
       "    .dataframe thead th {\n",
       "        text-align: right;\n",
       "    }\n",
       "</style>\n",
       "<table border=\"1\" class=\"dataframe\">\n",
       "  <thead>\n",
       "    <tr style=\"text-align: right;\">\n",
       "      <th></th>\n",
       "      <th>age</th>\n",
       "      <th>hypertension</th>\n",
       "      <th>heart_disease</th>\n",
       "      <th>ever_married</th>\n",
       "      <th>work_type</th>\n",
       "      <th>avg_glucose_level</th>\n",
       "      <th>bmi</th>\n",
       "      <th>smoking_status</th>\n",
       "      <th>stroke</th>\n",
       "    </tr>\n",
       "  </thead>\n",
       "  <tbody>\n",
       "    <tr>\n",
       "      <th>0</th>\n",
       "      <td>67.0</td>\n",
       "      <td>0</td>\n",
       "      <td>1</td>\n",
       "      <td>Yes</td>\n",
       "      <td>Private</td>\n",
       "      <td>228.69</td>\n",
       "      <td>36.6</td>\n",
       "      <td>formerly smoked</td>\n",
       "      <td>1</td>\n",
       "    </tr>\n",
       "    <tr>\n",
       "      <th>2</th>\n",
       "      <td>80.0</td>\n",
       "      <td>0</td>\n",
       "      <td>1</td>\n",
       "      <td>Yes</td>\n",
       "      <td>Private</td>\n",
       "      <td>105.92</td>\n",
       "      <td>32.5</td>\n",
       "      <td>never smoked</td>\n",
       "      <td>1</td>\n",
       "    </tr>\n",
       "    <tr>\n",
       "      <th>3</th>\n",
       "      <td>49.0</td>\n",
       "      <td>0</td>\n",
       "      <td>0</td>\n",
       "      <td>Yes</td>\n",
       "      <td>Private</td>\n",
       "      <td>171.23</td>\n",
       "      <td>34.4</td>\n",
       "      <td>smokes</td>\n",
       "      <td>1</td>\n",
       "    </tr>\n",
       "    <tr>\n",
       "      <th>4</th>\n",
       "      <td>79.0</td>\n",
       "      <td>1</td>\n",
       "      <td>0</td>\n",
       "      <td>Yes</td>\n",
       "      <td>Self-employed</td>\n",
       "      <td>174.12</td>\n",
       "      <td>24.0</td>\n",
       "      <td>never smoked</td>\n",
       "      <td>1</td>\n",
       "    </tr>\n",
       "    <tr>\n",
       "      <th>5</th>\n",
       "      <td>81.0</td>\n",
       "      <td>0</td>\n",
       "      <td>0</td>\n",
       "      <td>Yes</td>\n",
       "      <td>Private</td>\n",
       "      <td>186.21</td>\n",
       "      <td>29.0</td>\n",
       "      <td>formerly smoked</td>\n",
       "      <td>1</td>\n",
       "    </tr>\n",
       "  </tbody>\n",
       "</table>\n",
       "</div>"
      ],
      "text/plain": [
       "    age  hypertension  heart_disease ever_married      work_type   \n",
       "0  67.0             0              1          Yes        Private  \\\n",
       "2  80.0             0              1          Yes        Private   \n",
       "3  49.0             0              0          Yes        Private   \n",
       "4  79.0             1              0          Yes  Self-employed   \n",
       "5  81.0             0              0          Yes        Private   \n",
       "\n",
       "   avg_glucose_level   bmi   smoking_status  stroke  \n",
       "0             228.69  36.6  formerly smoked       1  \n",
       "2             105.92  32.5     never smoked       1  \n",
       "3             171.23  34.4           smokes       1  \n",
       "4             174.12  24.0     never smoked       1  \n",
       "5             186.21  29.0  formerly smoked       1  "
      ]
     },
     "execution_count": 22,
     "metadata": {},
     "output_type": "execute_result"
    }
   ],
   "source": [
    "df.head(5)"
   ]
  },
  {
   "cell_type": "markdown",
   "id": "5a2cf140",
   "metadata": {},
   "source": [
    "### Split X and Y"
   ]
  },
  {
   "cell_type": "code",
   "execution_count": 23,
   "id": "606bd5ec",
   "metadata": {},
   "outputs": [],
   "source": [
    "from sklearn.model_selection import train_test_split\n",
    "X = df.drop(['stroke'], axis=1)\n",
    "y = df['stroke']"
   ]
  },
  {
   "cell_type": "markdown",
   "id": "9455c01a",
   "metadata": {},
   "source": [
    "* **Split Dataframe to X and y**\n",
    "* **Here we set a variable X i.e, independent columns, and a variable y i.e, dependent column as the `stroke` column.**\n"
   ]
  },
  {
   "cell_type": "code",
   "execution_count": 24,
   "id": "00e06fc4",
   "metadata": {},
   "outputs": [
    {
     "name": "stdout",
     "output_type": "stream",
     "text": [
      "ever_married : 2\n",
      "work_type : 5\n",
      "smoking_status : 4\n"
     ]
    }
   ],
   "source": [
    "for feature in categorical_features:\n",
    "    print(feature,':', X[feature].nunique())"
   ]
  },
  {
   "cell_type": "markdown",
   "id": "51a3853d",
   "metadata": {},
   "source": [
    "## Feature Encoding and Scaling"
   ]
  },
  {
   "cell_type": "markdown",
   "id": "29dbaf2d",
   "metadata": {},
   "source": [
    " **One Hot Encoding for Columns which had lesser unique values and not ordinal**\n",
    "* One hot encoding is a process by which categorical variables are converted into a form that could be provided to ML algorithms to do a better job in prediction."
   ]
  },
  {
   "cell_type": "code",
   "execution_count": 25,
   "id": "d0353dca",
   "metadata": {
    "scrolled": true
   },
   "outputs": [
    {
     "name": "stdout",
     "output_type": "stream",
     "text": [
      "age: mean = 42.83, median = 44.00\n",
      "avg_glucose_level: mean = 105.10, median = 91.68\n",
      "bmi: mean = 28.54, median = 27.90\n"
     ]
    }
   ],
   "source": [
    "for i in continuous_features:\n",
    "    print(f'{i}: mean = {df[i].mean():.2f}, median = {df[i].median():.2f}')"
   ]
  },
  {
   "cell_type": "markdown",
   "id": "bcec9239",
   "metadata": {},
   "source": [
    "There are no missing values in `age` and `avg_glucose_level` and only `bmi` column should be handled. Based on the above result we can inpute the column with either mean or median. We can go with median imputation since it is robust than mean imputer."
   ]
  },
  {
   "cell_type": "markdown",
   "id": "1c240cad",
   "metadata": {},
   "source": [
    "* **Mean imputer:** Since we handeled outlier for the continuous features the mean and median of the features are nearly same. When there are no outliers mean performs an a better imputer.\n",
    "* **Standardscaler:** As the features distribution are nearly normal we use standard scaler.\n",
    "* **Power Transformer:** Since avg_glucose_level are skewed we use Power Transformer on them"
   ]
  },
  {
   "cell_type": "code",
   "execution_count": 26,
   "id": "348ccd3f",
   "metadata": {},
   "outputs": [],
   "source": [
    "# Create Column Transformer with 3 types of transformers\n",
    "categorical_features = X.select_dtypes(include=\"object\").columns\n",
    "num_feature = numeric_features.copy()\n",
    "num_feature.remove('stroke')\n",
    "transform_features=['avg_glucose_level']\n",
    "\n",
    "\n",
    "from sklearn.preprocessing import OneHotEncoder, StandardScaler, PowerTransformer\n",
    "from sklearn.compose import ColumnTransformer\n",
    "from sklearn.pipeline import Pipeline\n",
    "from sklearn.impute import SimpleImputer\n",
    "\n",
    "numeric_pipeline = Pipeline(steps=[\n",
    "    ('imputer', SimpleImputer(strategy='median')),\n",
    "    ('scaler', StandardScaler())\n",
    "])\n",
    "\n",
    "categorical_pipeline = Pipeline(steps=[\n",
    "    ('one_hot_encoder', OneHotEncoder()),\n",
    "    ('scaler', StandardScaler(with_mean=False))\n",
    "]\n",
    ")\n",
    "\n",
    "transform_pipe = Pipeline(steps=[\n",
    "    ('transformer', PowerTransformer(standardize=True))\n",
    "])\n",
    "\n",
    "preprocessor = ColumnTransformer(\n",
    "    [\n",
    "        (\"numeric_Pipeline\",numeric_pipeline,num_feature),\n",
    "        (\"Categorical_Pipeline\",categorical_pipeline, categorical_features),\n",
    "        (\"Power_Transformation\", transform_pipe, transform_features)\n",
    "]\n",
    ")"
   ]
  },
  {
   "cell_type": "code",
   "execution_count": 27,
   "id": "073fea39",
   "metadata": {},
   "outputs": [],
   "source": [
    "X= preprocessor.fit_transform(X)"
   ]
  },
  {
   "cell_type": "markdown",
   "id": "b0cb1742",
   "metadata": {},
   "source": [
    "## Handling Imbalanced Dataset"
   ]
  },
  {
   "cell_type": "markdown",
   "id": "4110b6b4",
   "metadata": {},
   "source": [
    "* Handling Imbalanced Target Variable.\n",
    "* Synthetic Minority Oversampling Technique or SMOTE is another technique to oversample the minority class. Simply adding duplicate records of minority class often don’t add any new information to the model.\n",
    "\n",
    "* SMOTE is one of the famous oversampling techniques and is very effective in handling class imbalance. The idea is to combine SMOTE with some undersampling techniques (ENN, Tomek) to increase the effectiveness of handling the imbalanced class."
   ]
  },
  {
   "cell_type": "markdown",
   "id": "f3741fc1",
   "metadata": {},
   "source": [
    " **SMOTE+ENN** is one of such a hybrid technique that aims to clean overlapping data points for each of the classes distributed in sample space.\n",
    " \n",
    "This method combines the SMOTE ability to generate synthetic data for minority class and uses ENN to remove overlapping observation of both the classes\n",
    " \n",
    " - **To add new data of minority class**\n",
    " 1. Choose random data from the minority class.\n",
    " 2. Calculate the distance between the random data and its k nearest neighbors.\n",
    " 3. Multiply the difference with a random number between 0 and 1, then add the result to the minority class as a synthetic sample.\n",
    " 4. Repeat step number 2–3 until the desired proportion of minority class is met.\n",
    " \n",
    " - **To remove the data points of both classes**\n",
    " 1. Determine K, as the number of nearest neighbors. If not determined, then K=3.\n",
    " 2. Find the K-nearest neighbor of the observation among the other observations in the dataset, then return the majority class from the K-nearest neighbor.\n",
    " 3. If the class of the observation and the majority class from the observation’s K-nearest neighbor is different, then the observation and its K-nearest neighbor are deleted from the dataset.\n",
    " 4. Repeat step 2 and 3 until the desired proportion of each class is fulfilled.\n",
    " \n",
    " - This is method instead of adding duplicate data it synthesises the new data based on the already avalialble classes. Hence we choose this as our imputer method for this problem."
   ]
  },
  {
   "cell_type": "code",
   "execution_count": 28,
   "id": "fde0c1c7",
   "metadata": {},
   "outputs": [],
   "source": [
    "from imblearn.combine import SMOTETomek, SMOTEENN\n",
    "\n",
    "# Resampling the minority class. The strategy can be changed as required.\n",
    "smt = SMOTEENN(random_state=42,sampling_strategy='minority' )\n",
    "# Fit the model to generate the data.\n",
    "X, y = smt.fit_resample(X, y)"
   ]
  },
  {
   "cell_type": "code",
   "execution_count": 29,
   "id": "c449d7f5",
   "metadata": {},
   "outputs": [
    {
     "data": {
      "text/plain": [
       "array([-1.75942083, -0.31385575, -0.2291418 , -0.22600995, -1.47463119,\n",
       "        2.09767055,  0.        ,  0.        ,  0.        ,  0.        ,\n",
       "        0.        ,  2.89655563,  2.17637423,  0.        ,  0.        ,\n",
       "        0.        ,  0.094787  ])"
      ]
     },
     "execution_count": 29,
     "metadata": {},
     "output_type": "execute_result"
    }
   ],
   "source": [
    "X[0]"
   ]
  },
  {
   "cell_type": "markdown",
   "id": "d81b9eaa",
   "metadata": {},
   "source": [
    "## Model Selection\n",
    "* **Here should understand the Various Classification models with default values from these models we can choose top 4 with Highest Accuracy score and proceed with HyperParameter Tuning**"
   ]
  },
  {
   "cell_type": "markdown",
   "id": "91bcc975",
   "metadata": {},
   "source": [
    "## Train Test Split"
   ]
  },
  {
   "cell_type": "markdown",
   "id": "8b9e9fab",
   "metadata": {},
   "source": [
    "**Import Required packages for model training**"
   ]
  },
  {
   "cell_type": "code",
   "execution_count": 30,
   "id": "d82663ae",
   "metadata": {},
   "outputs": [
    {
     "name": "stderr",
     "output_type": "stream",
     "text": [
      "2023-07-09 16:30:40.284482: I tensorflow/core/util/port.cc:110] oneDNN custom operations are on. You may see slightly different numerical results due to floating-point round-off errors from different computation orders. To turn them off, set the environment variable `TF_ENABLE_ONEDNN_OPTS=0`.\n",
      "2023-07-09 16:30:40.286366: I tensorflow/tsl/cuda/cudart_stub.cc:28] Could not find cuda drivers on your machine, GPU will not be used.\n",
      "2023-07-09 16:30:40.323294: I tensorflow/tsl/cuda/cudart_stub.cc:28] Could not find cuda drivers on your machine, GPU will not be used.\n",
      "2023-07-09 16:30:40.323915: I tensorflow/core/platform/cpu_feature_guard.cc:182] This TensorFlow binary is optimized to use available CPU instructions in performance-critical operations.\n",
      "To enable the following instructions: AVX2 AVX512F AVX512_VNNI FMA, in other operations, rebuild TensorFlow with the appropriate compiler flags.\n",
      "2023-07-09 16:30:41.031735: W tensorflow/compiler/tf2tensorrt/utils/py_utils.cc:38] TF-TRT Warning: Could not find TensorRT\n"
     ]
    }
   ],
   "source": [
    "from sklearn.metrics import accuracy_score, classification_report,confusion_matrix, \\\n",
    "                            precision_score, recall_score, f1_score, roc_auc_score,roc_curve \n",
    "import tensorflow as tf\n",
    "from tensorflow import keras\n",
    "from tensorflow.keras import Sequential\n",
    "from tensorflow.keras.layers import Dense\n",
    "import keras_tuner as kt"
   ]
  },
  {
   "cell_type": "code",
   "execution_count": 31,
   "id": "2ff368bd",
   "metadata": {},
   "outputs": [],
   "source": [
    "# separate dataset into validation, train and test\n",
    "X_train, X_val, y_train, y_val = train_test_split(X, y, test_size=0.2, random_state=42)\n",
    "X_val, X_test, y_val, y_test = train_test_split(X_val, y_val, test_size=0.5, random_state=42)"
   ]
  },
  {
   "cell_type": "code",
   "execution_count": 32,
   "id": "392c3601",
   "metadata": {},
   "outputs": [],
   "source": [
    "model = Sequential()\n",
    "\n",
    "model.add(Dense(17, activation='relu', input_dim=17))\n",
    "model.add(Dense(10, activation='relu'))\n",
    "model.add(Dense(5,activation='sigmoid'))\n",
    "model.add(Dense(1, activation='sigmoid'))"
   ]
  },
  {
   "cell_type": "code",
   "execution_count": 33,
   "id": "db1fb4ea",
   "metadata": {},
   "outputs": [
    {
     "name": "stdout",
     "output_type": "stream",
     "text": [
      "Model: \"sequential\"\n",
      "_________________________________________________________________\n",
      " Layer (type)                Output Shape              Param #   \n",
      "=================================================================\n",
      " dense (Dense)               (None, 17)                306       \n",
      "                                                                 \n",
      " dense_1 (Dense)             (None, 10)                180       \n",
      "                                                                 \n",
      " dense_2 (Dense)             (None, 5)                 55        \n",
      "                                                                 \n",
      " dense_3 (Dense)             (None, 1)                 6         \n",
      "                                                                 \n",
      "=================================================================\n",
      "Total params: 547\n",
      "Trainable params: 547\n",
      "Non-trainable params: 0\n",
      "_________________________________________________________________\n"
     ]
    }
   ],
   "source": [
    "model.summary()"
   ]
  },
  {
   "cell_type": "code",
   "execution_count": 34,
   "id": "153ff3fa",
   "metadata": {},
   "outputs": [],
   "source": [
    "model.compile(loss=\"binary_crossentropy\", optimizer='Adam', metrics=['accuracy'])"
   ]
  },
  {
   "cell_type": "code",
   "execution_count": 35,
   "id": "405ba4f8",
   "metadata": {},
   "outputs": [
    {
     "name": "stdout",
     "output_type": "stream",
     "text": [
      "Epoch 1/100\n",
      "139/139 [==============================] - 1s 3ms/step - loss: 0.6060 - accuracy: 0.6677 - val_loss: 0.5212 - val_accuracy: 0.7698\n",
      "Epoch 2/100\n",
      "139/139 [==============================] - 0s 2ms/step - loss: 0.4825 - accuracy: 0.7854 - val_loss: 0.4298 - val_accuracy: 0.8405\n",
      "Epoch 3/100\n",
      "139/139 [==============================] - 0s 2ms/step - loss: 0.4074 - accuracy: 0.8450 - val_loss: 0.3734 - val_accuracy: 0.8664\n",
      "Epoch 4/100\n",
      "139/139 [==============================] - 0s 2ms/step - loss: 0.3600 - accuracy: 0.8619 - val_loss: 0.3445 - val_accuracy: 0.8796\n",
      "Epoch 5/100\n",
      "139/139 [==============================] - 0s 2ms/step - loss: 0.3306 - accuracy: 0.8787 - val_loss: 0.3257 - val_accuracy: 0.8823\n",
      "Epoch 6/100\n",
      "139/139 [==============================] - 0s 2ms/step - loss: 0.3126 - accuracy: 0.8864 - val_loss: 0.3129 - val_accuracy: 0.8875\n",
      "Epoch 7/100\n",
      "139/139 [==============================] - 0s 2ms/step - loss: 0.3001 - accuracy: 0.8875 - val_loss: 0.3038 - val_accuracy: 0.8923\n",
      "Epoch 8/100\n",
      "139/139 [==============================] - 0s 2ms/step - loss: 0.2882 - accuracy: 0.8938 - val_loss: 0.2937 - val_accuracy: 0.8955\n",
      "Epoch 9/100\n",
      "139/139 [==============================] - 0s 2ms/step - loss: 0.2808 - accuracy: 0.8984 - val_loss: 0.2858 - val_accuracy: 0.8981\n",
      "Epoch 10/100\n",
      "139/139 [==============================] - 0s 2ms/step - loss: 0.2710 - accuracy: 0.9018 - val_loss: 0.2789 - val_accuracy: 0.9023\n",
      "Epoch 11/100\n",
      "139/139 [==============================] - 0s 2ms/step - loss: 0.2632 - accuracy: 0.9040 - val_loss: 0.2747 - val_accuracy: 0.9013\n",
      "Epoch 12/100\n",
      "139/139 [==============================] - 0s 2ms/step - loss: 0.2569 - accuracy: 0.9079 - val_loss: 0.2650 - val_accuracy: 0.9050\n",
      "Epoch 13/100\n",
      "139/139 [==============================] - 0s 2ms/step - loss: 0.2498 - accuracy: 0.9072 - val_loss: 0.2587 - val_accuracy: 0.9071\n",
      "Epoch 14/100\n",
      "139/139 [==============================] - 0s 3ms/step - loss: 0.2424 - accuracy: 0.9129 - val_loss: 0.2560 - val_accuracy: 0.9076\n",
      "Epoch 15/100\n",
      "139/139 [==============================] - 0s 3ms/step - loss: 0.2361 - accuracy: 0.9190 - val_loss: 0.2496 - val_accuracy: 0.9087\n",
      "Epoch 16/100\n",
      "139/139 [==============================] - 0s 3ms/step - loss: 0.2301 - accuracy: 0.9208 - val_loss: 0.2428 - val_accuracy: 0.9097\n",
      "Epoch 17/100\n",
      "139/139 [==============================] - 0s 2ms/step - loss: 0.2251 - accuracy: 0.9215 - val_loss: 0.2413 - val_accuracy: 0.9124\n",
      "Epoch 18/100\n",
      "139/139 [==============================] - 0s 3ms/step - loss: 0.2196 - accuracy: 0.9246 - val_loss: 0.2410 - val_accuracy: 0.9118\n",
      "Epoch 19/100\n",
      "139/139 [==============================] - 0s 3ms/step - loss: 0.2172 - accuracy: 0.9233 - val_loss: 0.2305 - val_accuracy: 0.9176\n",
      "Epoch 20/100\n",
      "139/139 [==============================] - 0s 2ms/step - loss: 0.2106 - accuracy: 0.9228 - val_loss: 0.2225 - val_accuracy: 0.9245\n",
      "Epoch 21/100\n",
      "139/139 [==============================] - 0s 3ms/step - loss: 0.2061 - accuracy: 0.9278 - val_loss: 0.2267 - val_accuracy: 0.9182\n",
      "Epoch 22/100\n",
      "139/139 [==============================] - 0s 3ms/step - loss: 0.2040 - accuracy: 0.9267 - val_loss: 0.2180 - val_accuracy: 0.9245\n",
      "Epoch 23/100\n",
      "139/139 [==============================] - 0s 3ms/step - loss: 0.2008 - accuracy: 0.9262 - val_loss: 0.2126 - val_accuracy: 0.9271\n",
      "Epoch 24/100\n",
      "139/139 [==============================] - 0s 2ms/step - loss: 0.1956 - accuracy: 0.9303 - val_loss: 0.2079 - val_accuracy: 0.9308\n",
      "Epoch 25/100\n",
      "139/139 [==============================] - 0s 3ms/step - loss: 0.1939 - accuracy: 0.9280 - val_loss: 0.2098 - val_accuracy: 0.9277\n",
      "Epoch 26/100\n",
      "139/139 [==============================] - 0s 3ms/step - loss: 0.1903 - accuracy: 0.9314 - val_loss: 0.2049 - val_accuracy: 0.9345\n",
      "Epoch 27/100\n",
      "139/139 [==============================] - 0s 3ms/step - loss: 0.1881 - accuracy: 0.9310 - val_loss: 0.2016 - val_accuracy: 0.9319\n",
      "Epoch 28/100\n",
      "139/139 [==============================] - 0s 3ms/step - loss: 0.1847 - accuracy: 0.9339 - val_loss: 0.1992 - val_accuracy: 0.9345\n",
      "Epoch 29/100\n",
      "139/139 [==============================] - 0s 4ms/step - loss: 0.1814 - accuracy: 0.9341 - val_loss: 0.1992 - val_accuracy: 0.9340\n",
      "Epoch 30/100\n",
      "139/139 [==============================] - 0s 3ms/step - loss: 0.1782 - accuracy: 0.9355 - val_loss: 0.1945 - val_accuracy: 0.9366\n",
      "Epoch 31/100\n",
      "139/139 [==============================] - 0s 3ms/step - loss: 0.1742 - accuracy: 0.9384 - val_loss: 0.1928 - val_accuracy: 0.9356\n",
      "Epoch 32/100\n",
      "139/139 [==============================] - 0s 3ms/step - loss: 0.1720 - accuracy: 0.9387 - val_loss: 0.1918 - val_accuracy: 0.9361\n",
      "Epoch 33/100\n",
      "139/139 [==============================] - 0s 2ms/step - loss: 0.1678 - accuracy: 0.9373 - val_loss: 0.1904 - val_accuracy: 0.9382\n",
      "Epoch 34/100\n",
      "139/139 [==============================] - 0s 2ms/step - loss: 0.1669 - accuracy: 0.9400 - val_loss: 0.1866 - val_accuracy: 0.9382\n",
      "Epoch 35/100\n",
      "139/139 [==============================] - 0s 3ms/step - loss: 0.1631 - accuracy: 0.9414 - val_loss: 0.1902 - val_accuracy: 0.9372\n",
      "Epoch 36/100\n",
      "139/139 [==============================] - 0s 3ms/step - loss: 0.1608 - accuracy: 0.9432 - val_loss: 0.1859 - val_accuracy: 0.9388\n",
      "Epoch 37/100\n",
      "139/139 [==============================] - 0s 2ms/step - loss: 0.1580 - accuracy: 0.9436 - val_loss: 0.1837 - val_accuracy: 0.9403\n",
      "Epoch 38/100\n",
      "139/139 [==============================] - 0s 3ms/step - loss: 0.1565 - accuracy: 0.9468 - val_loss: 0.1818 - val_accuracy: 0.9403\n",
      "Epoch 39/100\n",
      "139/139 [==============================] - 0s 3ms/step - loss: 0.1549 - accuracy: 0.9468 - val_loss: 0.1798 - val_accuracy: 0.9409\n",
      "Epoch 40/100\n",
      "139/139 [==============================] - 0s 3ms/step - loss: 0.1686 - accuracy: 0.9398 - val_loss: 0.1778 - val_accuracy: 0.9435\n",
      "Epoch 41/100\n",
      "139/139 [==============================] - 0s 3ms/step - loss: 0.1510 - accuracy: 0.9488 - val_loss: 0.1797 - val_accuracy: 0.9414\n",
      "Epoch 42/100\n",
      "139/139 [==============================] - 0s 3ms/step - loss: 0.1514 - accuracy: 0.9450 - val_loss: 0.1803 - val_accuracy: 0.9382\n",
      "Epoch 43/100\n",
      "139/139 [==============================] - 0s 3ms/step - loss: 0.1495 - accuracy: 0.9491 - val_loss: 0.1783 - val_accuracy: 0.9409\n",
      "Epoch 44/100\n",
      "139/139 [==============================] - 0s 2ms/step - loss: 0.1479 - accuracy: 0.9518 - val_loss: 0.1749 - val_accuracy: 0.9440\n",
      "Epoch 45/100\n",
      "139/139 [==============================] - 0s 2ms/step - loss: 0.1468 - accuracy: 0.9491 - val_loss: 0.1755 - val_accuracy: 0.9446\n",
      "Epoch 46/100\n",
      "139/139 [==============================] - 0s 2ms/step - loss: 0.1451 - accuracy: 0.9507 - val_loss: 0.1730 - val_accuracy: 0.9440\n",
      "Epoch 47/100\n",
      "139/139 [==============================] - 0s 2ms/step - loss: 0.1438 - accuracy: 0.9547 - val_loss: 0.1777 - val_accuracy: 0.9409\n",
      "Epoch 48/100\n",
      "139/139 [==============================] - 0s 2ms/step - loss: 0.1424 - accuracy: 0.9520 - val_loss: 0.1798 - val_accuracy: 0.9351\n",
      "Epoch 49/100\n",
      "139/139 [==============================] - 0s 2ms/step - loss: 0.1554 - accuracy: 0.9450 - val_loss: 0.1738 - val_accuracy: 0.9430\n",
      "Epoch 50/100\n",
      "139/139 [==============================] - 0s 2ms/step - loss: 0.1419 - accuracy: 0.9507 - val_loss: 0.1718 - val_accuracy: 0.9446\n",
      "Epoch 51/100\n",
      "139/139 [==============================] - 0s 2ms/step - loss: 0.1397 - accuracy: 0.9545 - val_loss: 0.1719 - val_accuracy: 0.9461\n",
      "Epoch 52/100\n",
      "139/139 [==============================] - 0s 2ms/step - loss: 0.1383 - accuracy: 0.9513 - val_loss: 0.1755 - val_accuracy: 0.9435\n",
      "Epoch 53/100\n",
      "139/139 [==============================] - 0s 2ms/step - loss: 0.1390 - accuracy: 0.9559 - val_loss: 0.1712 - val_accuracy: 0.9424\n",
      "Epoch 54/100\n",
      "139/139 [==============================] - 0s 2ms/step - loss: 0.1370 - accuracy: 0.9559 - val_loss: 0.1707 - val_accuracy: 0.9435\n",
      "Epoch 55/100\n",
      "139/139 [==============================] - 0s 2ms/step - loss: 0.1407 - accuracy: 0.9534 - val_loss: 0.1692 - val_accuracy: 0.9477\n",
      "Epoch 56/100\n",
      "139/139 [==============================] - 0s 2ms/step - loss: 0.1382 - accuracy: 0.9525 - val_loss: 0.1690 - val_accuracy: 0.9483\n",
      "Epoch 57/100\n",
      "139/139 [==============================] - 0s 2ms/step - loss: 0.1339 - accuracy: 0.9572 - val_loss: 0.1765 - val_accuracy: 0.9409\n"
     ]
    },
    {
     "name": "stdout",
     "output_type": "stream",
     "text": [
      "Epoch 58/100\n",
      "139/139 [==============================] - 0s 2ms/step - loss: 0.1348 - accuracy: 0.9547 - val_loss: 0.1710 - val_accuracy: 0.9446\n",
      "Epoch 59/100\n",
      "139/139 [==============================] - 0s 2ms/step - loss: 0.1340 - accuracy: 0.9534 - val_loss: 0.1695 - val_accuracy: 0.9456\n",
      "Epoch 60/100\n",
      "139/139 [==============================] - 0s 2ms/step - loss: 0.1407 - accuracy: 0.9525 - val_loss: 0.1693 - val_accuracy: 0.9467\n",
      "Epoch 61/100\n",
      "139/139 [==============================] - 0s 2ms/step - loss: 0.1330 - accuracy: 0.9550 - val_loss: 0.1686 - val_accuracy: 0.9440\n",
      "Epoch 62/100\n",
      "139/139 [==============================] - 0s 2ms/step - loss: 0.1314 - accuracy: 0.9556 - val_loss: 0.1687 - val_accuracy: 0.9472\n",
      "Epoch 63/100\n",
      "139/139 [==============================] - 0s 2ms/step - loss: 0.1290 - accuracy: 0.9563 - val_loss: 0.1656 - val_accuracy: 0.9488\n",
      "Epoch 64/100\n",
      "139/139 [==============================] - 0s 2ms/step - loss: 0.1298 - accuracy: 0.9572 - val_loss: 0.1655 - val_accuracy: 0.9472\n",
      "Epoch 65/100\n",
      "139/139 [==============================] - 0s 2ms/step - loss: 0.1286 - accuracy: 0.9584 - val_loss: 0.1654 - val_accuracy: 0.9488\n",
      "Epoch 66/100\n",
      "139/139 [==============================] - 0s 2ms/step - loss: 0.1265 - accuracy: 0.9586 - val_loss: 0.1681 - val_accuracy: 0.9467\n",
      "Epoch 67/100\n",
      "139/139 [==============================] - 0s 2ms/step - loss: 0.1253 - accuracy: 0.9595 - val_loss: 0.1647 - val_accuracy: 0.9488\n",
      "Epoch 68/100\n",
      "139/139 [==============================] - 0s 2ms/step - loss: 0.1236 - accuracy: 0.9604 - val_loss: 0.1654 - val_accuracy: 0.9498\n",
      "Epoch 69/100\n",
      "139/139 [==============================] - 0s 3ms/step - loss: 0.1254 - accuracy: 0.9577 - val_loss: 0.1644 - val_accuracy: 0.9520\n",
      "Epoch 70/100\n",
      "139/139 [==============================] - 0s 2ms/step - loss: 0.1215 - accuracy: 0.9611 - val_loss: 0.1657 - val_accuracy: 0.9493\n",
      "Epoch 71/100\n",
      "139/139 [==============================] - 0s 2ms/step - loss: 0.1201 - accuracy: 0.9615 - val_loss: 0.1698 - val_accuracy: 0.9467\n",
      "Epoch 72/100\n",
      "139/139 [==============================] - 0s 2ms/step - loss: 0.1198 - accuracy: 0.9615 - val_loss: 0.1643 - val_accuracy: 0.9504\n",
      "Epoch 73/100\n",
      "139/139 [==============================] - 0s 2ms/step - loss: 0.1183 - accuracy: 0.9631 - val_loss: 0.1636 - val_accuracy: 0.9498\n",
      "Epoch 74/100\n",
      "139/139 [==============================] - 0s 2ms/step - loss: 0.1197 - accuracy: 0.9590 - val_loss: 0.1613 - val_accuracy: 0.9498\n",
      "Epoch 75/100\n",
      "139/139 [==============================] - 0s 2ms/step - loss: 0.1217 - accuracy: 0.9606 - val_loss: 0.1613 - val_accuracy: 0.9520\n",
      "Epoch 76/100\n",
      "139/139 [==============================] - 0s 2ms/step - loss: 0.1142 - accuracy: 0.9631 - val_loss: 0.1615 - val_accuracy: 0.9514\n",
      "Epoch 77/100\n",
      "139/139 [==============================] - 0s 2ms/step - loss: 0.1155 - accuracy: 0.9622 - val_loss: 0.1634 - val_accuracy: 0.9488\n",
      "Epoch 78/100\n",
      "139/139 [==============================] - 0s 2ms/step - loss: 0.1142 - accuracy: 0.9642 - val_loss: 0.1600 - val_accuracy: 0.9525\n",
      "Epoch 79/100\n",
      "139/139 [==============================] - 0s 2ms/step - loss: 0.1136 - accuracy: 0.9651 - val_loss: 0.1625 - val_accuracy: 0.9509\n",
      "Epoch 80/100\n",
      "139/139 [==============================] - 0s 2ms/step - loss: 0.1127 - accuracy: 0.9620 - val_loss: 0.1628 - val_accuracy: 0.9498\n",
      "Epoch 81/100\n",
      "139/139 [==============================] - 0s 2ms/step - loss: 0.1113 - accuracy: 0.9627 - val_loss: 0.1596 - val_accuracy: 0.9504\n",
      "Epoch 82/100\n",
      "139/139 [==============================] - 0s 2ms/step - loss: 0.1125 - accuracy: 0.9627 - val_loss: 0.1568 - val_accuracy: 0.9530\n",
      "Epoch 83/100\n",
      "139/139 [==============================] - 0s 2ms/step - loss: 0.1109 - accuracy: 0.9649 - val_loss: 0.1569 - val_accuracy: 0.9541\n",
      "Epoch 84/100\n",
      "139/139 [==============================] - 0s 2ms/step - loss: 0.1104 - accuracy: 0.9638 - val_loss: 0.1586 - val_accuracy: 0.9551\n",
      "Epoch 85/100\n",
      "139/139 [==============================] - 0s 2ms/step - loss: 0.1080 - accuracy: 0.9654 - val_loss: 0.1599 - val_accuracy: 0.9514\n",
      "Epoch 86/100\n",
      "139/139 [==============================] - 0s 2ms/step - loss: 0.1084 - accuracy: 0.9638 - val_loss: 0.1569 - val_accuracy: 0.9535\n",
      "Epoch 87/100\n",
      "139/139 [==============================] - 0s 2ms/step - loss: 0.1067 - accuracy: 0.9656 - val_loss: 0.1584 - val_accuracy: 0.9514\n",
      "Epoch 88/100\n",
      "139/139 [==============================] - 0s 2ms/step - loss: 0.1049 - accuracy: 0.9651 - val_loss: 0.1585 - val_accuracy: 0.9498\n",
      "Epoch 89/100\n",
      "139/139 [==============================] - 0s 2ms/step - loss: 0.1058 - accuracy: 0.9667 - val_loss: 0.1607 - val_accuracy: 0.9509\n",
      "Epoch 90/100\n",
      "139/139 [==============================] - 0s 2ms/step - loss: 0.1071 - accuracy: 0.9636 - val_loss: 0.1524 - val_accuracy: 0.9562\n",
      "Epoch 91/100\n",
      "139/139 [==============================] - 0s 2ms/step - loss: 0.1050 - accuracy: 0.9642 - val_loss: 0.1555 - val_accuracy: 0.9530\n",
      "Epoch 92/100\n",
      "139/139 [==============================] - 0s 2ms/step - loss: 0.1079 - accuracy: 0.9638 - val_loss: 0.1569 - val_accuracy: 0.9541\n",
      "Epoch 93/100\n",
      "139/139 [==============================] - 0s 2ms/step - loss: 0.1019 - accuracy: 0.9672 - val_loss: 0.1643 - val_accuracy: 0.9493\n",
      "Epoch 94/100\n",
      "139/139 [==============================] - 0s 2ms/step - loss: 0.1032 - accuracy: 0.9667 - val_loss: 0.1569 - val_accuracy: 0.9514\n",
      "Epoch 95/100\n",
      "139/139 [==============================] - 0s 2ms/step - loss: 0.1003 - accuracy: 0.9697 - val_loss: 0.1560 - val_accuracy: 0.9546\n",
      "Epoch 96/100\n",
      "139/139 [==============================] - 0s 2ms/step - loss: 0.1010 - accuracy: 0.9688 - val_loss: 0.1553 - val_accuracy: 0.9546\n",
      "Epoch 97/100\n",
      "139/139 [==============================] - 0s 2ms/step - loss: 0.1010 - accuracy: 0.9656 - val_loss: 0.1547 - val_accuracy: 0.9535\n",
      "Epoch 98/100\n",
      "139/139 [==============================] - 0s 2ms/step - loss: 0.0999 - accuracy: 0.9697 - val_loss: 0.1570 - val_accuracy: 0.9535\n",
      "Epoch 99/100\n",
      "139/139 [==============================] - 0s 2ms/step - loss: 0.0990 - accuracy: 0.9681 - val_loss: 0.1568 - val_accuracy: 0.9504\n",
      "Epoch 100/100\n",
      "139/139 [==============================] - 0s 2ms/step - loss: 0.0988 - accuracy: 0.9681 - val_loss: 0.1536 - val_accuracy: 0.9562\n"
     ]
    }
   ],
   "source": [
    "result = model.fit(X_train, y_train, epochs=100, validation_split=0.3)"
   ]
  },
  {
   "cell_type": "code",
   "execution_count": 36,
   "id": "15373886",
   "metadata": {},
   "outputs": [
    {
     "data": {
      "text/plain": [
       "[<matplotlib.lines.Line2D at 0x7fd2b37cb0a0>]"
      ]
     },
     "execution_count": 36,
     "metadata": {},
     "output_type": "execute_result"
    },
    {
     "data": {
      "image/png": "[encoded data removed]",
      "text/plain": [
       "<Figure size 640x480 with 1 Axes>"
      ]
     },
     "metadata": {},
     "output_type": "display_data"
    }
   ],
   "source": [
    "plt.plot(result.history['loss'], color=\"black\")\n",
    "plt.plot(result.history['val_loss'], color='yellow')"
   ]
  },
  {
   "cell_type": "code",
   "execution_count": 37,
   "id": "397ff69b",
   "metadata": {},
   "outputs": [
    {
     "data": {
      "text/plain": [
       "[<matplotlib.lines.Line2D at 0x7fd2b37bac70>]"
      ]
     },
     "execution_count": 37,
     "metadata": {},
     "output_type": "execute_result"
    },
    {
     "data": {
      "image/png": "[encoded data removed]",
      "text/plain": [
       "<Figure size 640x480 with 1 Axes>"
      ]
     },
     "metadata": {},
     "output_type": "display_data"
    }
   ],
   "source": [
    "plt.plot(result.history['accuracy'], color='black' )\n",
    "plt.plot(result.history['val_accuracy'], color='yellow')"
   ]
  },
  {
   "cell_type": "markdown",
   "id": "43b0dbf1",
   "metadata": {},
   "source": [
    "# Hyper-parameter tuning"
   ]
  },
  {
   "cell_type": "code",
   "execution_count": 38,
   "id": "d2f3cbb1",
   "metadata": {},
   "outputs": [
    {
     "name": "stdout",
     "output_type": "stream",
     "text": [
      "INFO:tensorflow:Reloading Tuner from ./untitled_project/tuner0.json\n",
      "INFO:tensorflow:Oracle triggered exit\n"
     ]
    }
   ],
   "source": [
    "def build_model(hp):\n",
    "    model = keras.Sequential()\n",
    "    model.add(Dense(units=hp.Int('units_1', min_value=32, max_value=512, step=32),\n",
    "                                 activation=hp.Choice('activation_1', values=['relu', 'tanh']),\n",
    "                                 input_shape=(17,)))\n",
    "\n",
    "    # Tune the number of layers and nodes\n",
    "    for i in range(hp.Int('num_of_layers', min_value=1, max_value=5)):\n",
    "        model.add(Dense(units=hp.Int(f'units_{i+2}', min_value=32, max_value=512, step=32),\n",
    "                                     activation=hp.Choice(f'activation_{i+2}', values=['relu', 'tanh'])))\n",
    "\n",
    "    model.add(Dense(1, activation='sigmoid'))  # Output layer\n",
    "\n",
    "    # Tune the optimizer choice and learning rate\n",
    "    optimizer = hp.Choice('optimizer', values=['adam', 'rmsprop', 'adadelta'])\n",
    "    model.compile(optimizer=optimizer, loss='binary_crossentropy', metrics=['accuracy'])\n",
    "\n",
    "    return model\n",
    "\n",
    "# Perform hyperparameter tuning\n",
    "tuner = kt.Hyperband(build_model, \n",
    "                     objective='val_accuracy', \n",
    "                     max_epochs=10, \n",
    "                     factor=3)\n",
    "\n",
    "tuner.search(X_train, y_train, epochs=5, validation_data=(X_test, y_test))\n",
    "\n",
    "# Get the best model and its hyperparameters\n",
    "best_model = tuner.get_best_models(1)[0]\n",
    "best_hyperparameters = tuner.get_best_hyperparameters(1)[0]\n"
   ]
  },
  {
   "cell_type": "markdown",
   "id": "b4a582ae",
   "metadata": {},
   "source": [
    "### these are the best parameters and summary of the model"
   ]
  },
  {
   "cell_type": "code",
   "execution_count": 39,
   "id": "e2fe4e31",
   "metadata": {},
   "outputs": [
    {
     "name": "stdout",
     "output_type": "stream",
     "text": [
      "Best Model:\n",
      "Model: \"sequential\"\n",
      "_________________________________________________________________\n",
      " Layer (type)                Output Shape              Param #   \n",
      "=================================================================\n",
      " dense (Dense)               (None, 128)               2304      \n",
      "                                                                 \n",
      " dense_1 (Dense)             (None, 192)               24768     \n",
      "                                                                 \n",
      " dense_2 (Dense)             (None, 288)               55584     \n",
      "                                                                 \n",
      " dense_3 (Dense)             (None, 128)               36992     \n",
      "                                                                 \n",
      " dense_4 (Dense)             (None, 64)                8256      \n",
      "                                                                 \n",
      " dense_5 (Dense)             (None, 384)               24960     \n",
      "                                                                 \n",
      " dense_6 (Dense)             (None, 1)                 385       \n",
      "                                                                 \n",
      "=================================================================\n",
      "Total params: 153,249\n",
      "Trainable params: 153,249\n",
      "Non-trainable params: 0\n",
      "_________________________________________________________________\n",
      "\n",
      "Best Hyperparameters:\n",
      "units_1: 128\n",
      "activation_1: tanh\n",
      "num_of_layers: 5\n",
      "units_2: 192\n",
      "activation_2: tanh\n",
      "optimizer: adam\n",
      "units_3: 288\n",
      "activation_3: relu\n",
      "units_4: 128\n",
      "activation_4: relu\n",
      "units_5: 64\n",
      "activation_5: relu\n",
      "units_6: 384\n",
      "activation_6: tanh\n",
      "tuner/epochs: 10\n",
      "tuner/initial_epoch: 4\n",
      "tuner/bracket: 1\n",
      "tuner/round: 1\n",
      "tuner/trial_id: 0018\n"
     ]
    }
   ],
   "source": [
    "print(\"Best Model:\")\n",
    "best_model.summary()\n",
    "\n",
    "print(\"\\nBest Hyperparameters:\")\n",
    "for key, value in best_hyperparameters.values.items():\n",
    "    print(f\"{key}: {value}\")"
   ]
  },
  {
   "cell_type": "markdown",
   "id": "9f328502",
   "metadata": {},
   "source": [
    "### Get the values/ parameters from the result of hyperparameter tuning and build a Dense model and train again\n",
    "\n",
    "### And I'm using Early stopping because with the best parameters, model may result in overfit or underfit"
   ]
  },
  {
   "cell_type": "code",
   "execution_count": 40,
   "id": "4b78a089",
   "metadata": {},
   "outputs": [
    {
     "name": "stdout",
     "output_type": "stream",
     "text": [
      "Epoch 1/100\n",
      "198/198 [==============================] - 2s 5ms/step - loss: 0.3182 - accuracy: 0.8641 - val_loss: 0.2767 - val_accuracy: 0.8859\n",
      "Epoch 2/100\n",
      "198/198 [==============================] - 1s 3ms/step - loss: 0.2322 - accuracy: 0.9089 - val_loss: 0.2306 - val_accuracy: 0.8999\n",
      "Epoch 3/100\n",
      "198/198 [==============================] - 1s 4ms/step - loss: 0.1872 - accuracy: 0.9292 - val_loss: 0.1990 - val_accuracy: 0.9113\n",
      "Epoch 4/100\n",
      "198/198 [==============================] - 1s 4ms/step - loss: 0.1570 - accuracy: 0.9417 - val_loss: 0.1407 - val_accuracy: 0.9442\n",
      "Epoch 5/100\n",
      "198/198 [==============================] - 1s 4ms/step - loss: 0.1362 - accuracy: 0.9488 - val_loss: 0.1357 - val_accuracy: 0.9480\n",
      "Epoch 6/100\n",
      "198/198 [==============================] - 1s 3ms/step - loss: 0.1153 - accuracy: 0.9577 - val_loss: 0.1588 - val_accuracy: 0.9468\n",
      "Epoch 7/100\n",
      "198/198 [==============================] - 1s 4ms/step - loss: 0.1097 - accuracy: 0.9604 - val_loss: 0.1474 - val_accuracy: 0.9455\n",
      "Epoch 8/100\n",
      "198/198 [==============================] - 1s 3ms/step - loss: 0.0911 - accuracy: 0.9664 - val_loss: 0.1443 - val_accuracy: 0.9430\n",
      "Epoch 9/100\n",
      "198/198 [==============================] - 1s 3ms/step - loss: 0.0863 - accuracy: 0.9677 - val_loss: 0.0921 - val_accuracy: 0.9607\n",
      "Epoch 10/100\n",
      "198/198 [==============================] - 1s 4ms/step - loss: 0.0727 - accuracy: 0.9748 - val_loss: 0.1256 - val_accuracy: 0.9455\n",
      "Epoch 11/100\n",
      "198/198 [==============================] - 1s 3ms/step - loss: 0.0628 - accuracy: 0.9769 - val_loss: 0.1055 - val_accuracy: 0.9620\n",
      "Epoch 12/100\n",
      "198/198 [==============================] - 1s 3ms/step - loss: 0.0570 - accuracy: 0.9800 - val_loss: 0.1114 - val_accuracy: 0.9569\n",
      "Epoch 13/100\n",
      "198/198 [==============================] - 1s 3ms/step - loss: 0.0683 - accuracy: 0.9754 - val_loss: 0.0757 - val_accuracy: 0.9785\n",
      "Epoch 14/100\n",
      "198/198 [==============================] - 1s 3ms/step - loss: 0.0556 - accuracy: 0.9813 - val_loss: 0.0694 - val_accuracy: 0.9772\n",
      "Epoch 15/100\n",
      "198/198 [==============================] - 1s 3ms/step - loss: 0.0475 - accuracy: 0.9830 - val_loss: 0.0701 - val_accuracy: 0.9721\n",
      "Epoch 16/100\n",
      "198/198 [==============================] - 1s 3ms/step - loss: 0.0380 - accuracy: 0.9854 - val_loss: 0.0953 - val_accuracy: 0.9594\n",
      "Epoch 17/100\n",
      "198/198 [==============================] - 1s 4ms/step - loss: 0.0610 - accuracy: 0.9797 - val_loss: 0.0741 - val_accuracy: 0.9747\n",
      "Epoch 18/100\n",
      "198/198 [==============================] - 1s 4ms/step - loss: 0.0416 - accuracy: 0.9864 - val_loss: 0.0799 - val_accuracy: 0.9696\n",
      "Epoch 19/100\n",
      "198/198 [==============================] - 1s 3ms/step - loss: 0.0426 - accuracy: 0.9845 - val_loss: 0.0606 - val_accuracy: 0.9797\n",
      "Epoch 20/100\n",
      "198/198 [==============================] - 1s 4ms/step - loss: 0.0461 - accuracy: 0.9835 - val_loss: 0.0810 - val_accuracy: 0.9696\n",
      "Epoch 21/100\n",
      "198/198 [==============================] - 1s 3ms/step - loss: 0.0411 - accuracy: 0.9870 - val_loss: 0.0826 - val_accuracy: 0.9696\n",
      "Epoch 22/100\n",
      "198/198 [==============================] - 1s 4ms/step - loss: 0.0396 - accuracy: 0.9854 - val_loss: 0.0565 - val_accuracy: 0.9848\n",
      "Epoch 23/100\n",
      "198/198 [==============================] - 1s 4ms/step - loss: 0.0334 - accuracy: 0.9884 - val_loss: 0.0435 - val_accuracy: 0.9848\n",
      "Epoch 24/100\n",
      "198/198 [==============================] - 1s 4ms/step - loss: 0.0288 - accuracy: 0.9905 - val_loss: 0.0761 - val_accuracy: 0.9645\n",
      "Epoch 25/100\n",
      "198/198 [==============================] - 1s 3ms/step - loss: 0.0393 - accuracy: 0.9870 - val_loss: 0.0507 - val_accuracy: 0.9785\n",
      "Epoch 26/100\n",
      "198/198 [==============================] - 1s 3ms/step - loss: 0.0339 - accuracy: 0.9905 - val_loss: 0.0703 - val_accuracy: 0.9734\n",
      "Epoch 27/100\n",
      "198/198 [==============================] - 1s 3ms/step - loss: 0.0225 - accuracy: 0.9926 - val_loss: 0.0713 - val_accuracy: 0.9772\n",
      "Epoch 28/100\n",
      "198/198 [==============================] - 1s 3ms/step - loss: 0.0300 - accuracy: 0.9911 - val_loss: 0.0703 - val_accuracy: 0.9708\n",
      "Epoch 29/100\n",
      "198/198 [==============================] - 1s 3ms/step - loss: 0.0397 - accuracy: 0.9872 - val_loss: 0.1312 - val_accuracy: 0.9632\n",
      "Epoch 30/100\n",
      "198/198 [==============================] - 1s 3ms/step - loss: 0.0411 - accuracy: 0.9873 - val_loss: 0.0775 - val_accuracy: 0.9670\n",
      "Epoch 31/100\n",
      "198/198 [==============================] - 1s 3ms/step - loss: 0.0245 - accuracy: 0.9918 - val_loss: 0.0850 - val_accuracy: 0.9772\n",
      "Epoch 32/100\n",
      "198/198 [==============================] - 1s 3ms/step - loss: 0.0243 - accuracy: 0.9927 - val_loss: 0.0926 - val_accuracy: 0.9734\n",
      "Epoch 33/100\n",
      "198/198 [==============================] - 1s 3ms/step - loss: 0.0363 - accuracy: 0.9880 - val_loss: 0.0565 - val_accuracy: 0.9835\n"
     ]
    }
   ],
   "source": [
    "# Create a new sequential model with the best hyperparameters\n",
    "final_model = keras.Sequential()\n",
    "\n",
    "# Add layers based on the best hyperparameters\n",
    "final_model.add(keras.layers.Dense(units=128, activation='tanh', input_shape=(17,)))  # input_shape depends on your input data shape\n",
    "\n",
    "num_of_layers = best_hyperparameters.get('num_of_layers')\n",
    "\n",
    "for i in range(2, 2 + num_of_layers):\n",
    "    units_key = f'units_{i}'\n",
    "    activation_key = f'activation_{i}'\n",
    "    units = best_hyperparameters.get(units_key)\n",
    "    activation = best_hyperparameters.get(activation_key)\n",
    "\n",
    "    final_model.add(keras.layers.Dense(units=units, activation=activation))\n",
    "\n",
    "final_model.add(keras.layers.Dense(1, activation='sigmoid'))  # Output layer\n",
    "\n",
    "# Compile the model\n",
    "optimizer = best_hyperparameters.get('optimizer')\n",
    "final_model.compile(optimizer=optimizer, loss='binary_crossentropy', metrics=['accuracy'])\n",
    "\n",
    "# Define early stopping callback\n",
    "early_stopping = keras.callbacks.EarlyStopping(monitor='val_loss', patience=10, restore_best_weights=True)\n",
    "\n",
    "# Fit the model with early stopping\n",
    "result1 = final_model.fit(X_train, y_train, epochs=100, validation_data=(X_val, y_val), callbacks=[early_stopping])"
   ]
  },
  {
   "cell_type": "code",
   "execution_count": 41,
   "id": "2696ba02",
   "metadata": {},
   "outputs": [
    {
     "data": {
      "text/plain": [
       "[<matplotlib.lines.Line2D at 0x7fd2b26609a0>]"
      ]
     },
     "execution_count": 41,
     "metadata": {},
     "output_type": "execute_result"
    },
    {
     "data": {
      "image/png": "[encoded data removed]",
      "text/plain": [
       "<Figure size 640x480 with 1 Axes>"
      ]
     },
     "metadata": {},
     "output_type": "display_data"
    }
   ],
   "source": [
    "plt.plot(result1.history['loss'], color='black')\n",
    "plt.plot(result1.history['val_loss'], color='yellow')"
   ]
  },
  {
   "cell_type": "code",
   "execution_count": 42,
   "id": "56889bff",
   "metadata": {},
   "outputs": [
    {
     "data": {
      "text/plain": [
       "[<matplotlib.lines.Line2D at 0x7fd2b25dd220>]"
      ]
     },
     "execution_count": 42,
     "metadata": {},
     "output_type": "execute_result"
    },
    {
     "data": {
      "image/png": "[encoded data removed]",
      "text/plain": [
       "<Figure size 640x480 with 1 Axes>"
      ]
     },
     "metadata": {},
     "output_type": "display_data"
    }
   ],
   "source": [
    "plt.plot(result1.history['accuracy'], color='black')\n",
    "plt.plot(result1.history['val_accuracy'], color='yellow')"
   ]
  },
  {
   "cell_type": "code",
   "execution_count": 43,
   "id": "177098e5",
   "metadata": {},
   "outputs": [
    {
     "name": "stdout",
     "output_type": "stream",
     "text": [
      "25/25 [==============================] - 0s 2ms/step\n",
      "FINAL MODEL 'ANN'\n",
      "Accuracy Score value: 0.9747\n",
      "              precision    recall  f1-score   support\n",
      "\n",
      "           0       0.98      0.96      0.97       377\n",
      "           1       0.97      0.99      0.98       413\n",
      "\n",
      "    accuracy                           0.97       790\n",
      "   macro avg       0.98      0.97      0.97       790\n",
      "weighted avg       0.97      0.97      0.97       790\n",
      "\n"
     ]
    }
   ],
   "source": [
    "# Predict on test data\n",
    "y_pred = final_model.predict(X_test)\n",
    "y_pred_classes = (y_pred > 0.5).astype(\"int32\")\n",
    "score = accuracy_score(y_test, y_pred_classes)\n",
    "cr = classification_report(y_test, y_pred_classes)\n",
    "\n",
    "print(\"FINAL MODEL 'ANN'\")\n",
    "print(\"Accuracy Score value: {:.4f}\".format(score))\n",
    "print(cr)"
   ]
  },
  {
   "cell_type": "code",
   "execution_count": 44,
   "id": "5d8cbf6c",
   "metadata": {},
   "outputs": [
    {
     "data": {
      "image/png": "[encoded data removed]",
      "text/plain": [
       "<Figure size 800x600 with 2 Axes>"
      ]
     },
     "metadata": {},
     "output_type": "display_data"
    }
   ],
   "source": [
    "# Compute the confusion matrix\n",
    "cm = confusion_matrix(y_test, y_pred_classes)\n",
    "\n",
    "# Define class labels\n",
    "class_labels = np.unique(y)\n",
    "\n",
    "# Plot the confusion matrix\n",
    "plt.figure(figsize=(8, 6))\n",
    "plt.imshow(cm, interpolation='nearest', cmap=plt.cm.Blues)\n",
    "plt.title('Confusion Matrix')\n",
    "plt.colorbar()\n",
    "tick_marks = np.arange(len(class_labels))\n",
    "plt.xticks(tick_marks, class_labels)\n",
    "plt.yticks(tick_marks, class_labels)\n",
    "plt.xlabel('Predicted Class')\n",
    "plt.ylabel('True Class')\n",
    "\n",
    "# Add labels to each cell\n",
    "thresh = cm.max() / 2.0\n",
    "for i, j in np.ndindex(cm.shape):\n",
    "    plt.text(j, i, format(cm[i, j], 'd'),\n",
    "             horizontalalignment=\"center\",\n",
    "             color=\"white\" if cm[i, j] > thresh else \"black\")\n",
    "\n",
    "plt.show()"
   ]
  },
  {
   "cell_type": "markdown",
   "id": "c18aef36",
   "metadata": {},
   "source": [
    "## So the best model of accuracy is : 97.47%"
   ]
  },
  {
   "cell_type": "code",
   "execution_count": null,
   "id": "40be70f3",
   "metadata": {},
   "outputs": [],
   "source": []
  },
  {
   "cell_type": "code",
   "execution_count": null,
   "id": "99917d97",
   "metadata": {},
   "outputs": [],
   "source": []
  }
 ],
 "metadata": {
  "kernelspec": {
   "display_name": "Python 3 (ipykernel)",
   "language": "python",
   "name": "python3"
  },
  "language_info": {
   "codemirror_mode": {
    "name": "ipython",
    "version": 3
   },
   "file_extension": ".py",
   "mimetype": "text/x-python",
   "name": "python",
   "nbconvert_exporter": "python",
   "pygments_lexer": "ipython3",
   "version": "3.9.16"
  },
  "vscode": {
   "interpreter": {
    "hash": "fe5057b33890e8dd303e21b19623a3798ffaa8a05dcdf7dd3a35472e2b83b2ee"
   }
  }
 },
 "nbformat": 4,
 "nbformat_minor": 5
}
