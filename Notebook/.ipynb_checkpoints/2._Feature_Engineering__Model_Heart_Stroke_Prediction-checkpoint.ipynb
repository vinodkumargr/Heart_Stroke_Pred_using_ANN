{
 "cells": [
  {
   "cell_type": "markdown",
   "id": "4437a980",
   "metadata": {},
   "source": [
    "# Data Pre-Processing"
   ]
  },
  {
   "cell_type": "markdown",
   "id": "74b4d7e0",
   "metadata": {},
   "source": [
    "#### Import Packages and CSV"
   ]
  },
  {
   "cell_type": "code",
   "execution_count": 1,
   "id": "5530cc59",
   "metadata": {},
   "outputs": [
    {
     "name": "stdout",
     "output_type": "stream",
     "text": [
      "(5110, 12)\n"
     ]
    }
   ],
   "source": [
    "import pandas as pd\n",
    "import numpy as np\n",
    "import matplotlib.pyplot as plt\n",
    "import seaborn as sns\n",
    "import warnings\n",
    "warnings.filterwarnings(\"ignore\")\n",
    "pd.pandas.set_option(\"display.max_columns\", None)\n",
    "# Create Dataframe\n",
    "df = pd.read_csv(r\"/home/vinod/projects_1/Heart_Stroke_ANN/notebooks/data/healthcare-dataset-stroke-data.csv\")\n",
    "# Print shape of dataset\n",
    "print(df.shape)"
   ]
  },
  {
   "cell_type": "code",
   "execution_count": 2,
   "id": "9d024d09",
   "metadata": {},
   "outputs": [
    {
     "data": {
      "text/html": [
       "<div>\n",
       "<style scoped>\n",
       "    .dataframe tbody tr th:only-of-type {\n",
       "        vertical-align: middle;\n",
       "    }\n",
       "\n",
       "    .dataframe tbody tr th {\n",
       "        vertical-align: top;\n",
       "    }\n",
       "\n",
       "    .dataframe thead th {\n",
       "        text-align: right;\n",
       "    }\n",
       "</style>\n",
       "<table border=\"1\" class=\"dataframe\">\n",
       "  <thead>\n",
       "    <tr style=\"text-align: right;\">\n",
       "      <th></th>\n",
       "      <th>id</th>\n",
       "      <th>gender</th>\n",
       "      <th>age</th>\n",
       "      <th>hypertension</th>\n",
       "      <th>heart_disease</th>\n",
       "      <th>ever_married</th>\n",
       "      <th>work_type</th>\n",
       "      <th>Residence_type</th>\n",
       "      <th>avg_glucose_level</th>\n",
       "      <th>bmi</th>\n",
       "      <th>smoking_status</th>\n",
       "      <th>stroke</th>\n",
       "    </tr>\n",
       "  </thead>\n",
       "  <tbody>\n",
       "    <tr>\n",
       "      <th>0</th>\n",
       "      <td>9046</td>\n",
       "      <td>Male</td>\n",
       "      <td>67.0</td>\n",
       "      <td>0</td>\n",
       "      <td>1</td>\n",
       "      <td>Yes</td>\n",
       "      <td>Private</td>\n",
       "      <td>Urban</td>\n",
       "      <td>228.69</td>\n",
       "      <td>36.6</td>\n",
       "      <td>formerly smoked</td>\n",
       "      <td>1</td>\n",
       "    </tr>\n",
       "    <tr>\n",
       "      <th>1</th>\n",
       "      <td>51676</td>\n",
       "      <td>Female</td>\n",
       "      <td>61.0</td>\n",
       "      <td>0</td>\n",
       "      <td>0</td>\n",
       "      <td>Yes</td>\n",
       "      <td>Self-employed</td>\n",
       "      <td>Rural</td>\n",
       "      <td>202.21</td>\n",
       "      <td>NaN</td>\n",
       "      <td>never smoked</td>\n",
       "      <td>1</td>\n",
       "    </tr>\n",
       "    <tr>\n",
       "      <th>2</th>\n",
       "      <td>31112</td>\n",
       "      <td>Male</td>\n",
       "      <td>80.0</td>\n",
       "      <td>0</td>\n",
       "      <td>1</td>\n",
       "      <td>Yes</td>\n",
       "      <td>Private</td>\n",
       "      <td>Rural</td>\n",
       "      <td>105.92</td>\n",
       "      <td>32.5</td>\n",
       "      <td>never smoked</td>\n",
       "      <td>1</td>\n",
       "    </tr>\n",
       "    <tr>\n",
       "      <th>3</th>\n",
       "      <td>60182</td>\n",
       "      <td>Female</td>\n",
       "      <td>49.0</td>\n",
       "      <td>0</td>\n",
       "      <td>0</td>\n",
       "      <td>Yes</td>\n",
       "      <td>Private</td>\n",
       "      <td>Urban</td>\n",
       "      <td>171.23</td>\n",
       "      <td>34.4</td>\n",
       "      <td>smokes</td>\n",
       "      <td>1</td>\n",
       "    </tr>\n",
       "    <tr>\n",
       "      <th>4</th>\n",
       "      <td>1665</td>\n",
       "      <td>Female</td>\n",
       "      <td>79.0</td>\n",
       "      <td>1</td>\n",
       "      <td>0</td>\n",
       "      <td>Yes</td>\n",
       "      <td>Self-employed</td>\n",
       "      <td>Rural</td>\n",
       "      <td>174.12</td>\n",
       "      <td>24.0</td>\n",
       "      <td>never smoked</td>\n",
       "      <td>1</td>\n",
       "    </tr>\n",
       "  </tbody>\n",
       "</table>\n",
       "</div>"
      ],
      "text/plain": [
       "      id  gender   age  hypertension  heart_disease ever_married   \n",
       "0   9046    Male  67.0             0              1          Yes  \\\n",
       "1  51676  Female  61.0             0              0          Yes   \n",
       "2  31112    Male  80.0             0              1          Yes   \n",
       "3  60182  Female  49.0             0              0          Yes   \n",
       "4   1665  Female  79.0             1              0          Yes   \n",
       "\n",
       "       work_type Residence_type  avg_glucose_level   bmi   smoking_status   \n",
       "0        Private          Urban             228.69  36.6  formerly smoked  \\\n",
       "1  Self-employed          Rural             202.21   NaN     never smoked   \n",
       "2        Private          Rural             105.92  32.5     never smoked   \n",
       "3        Private          Urban             171.23  34.4           smokes   \n",
       "4  Self-employed          Rural             174.12  24.0     never smoked   \n",
       "\n",
       "   stroke  \n",
       "0       1  \n",
       "1       1  \n",
       "2       1  \n",
       "3       1  \n",
       "4       1  "
      ]
     },
     "execution_count": 2,
     "metadata": {},
     "output_type": "execute_result"
    }
   ],
   "source": [
    "# First 5 rows of the dataset\n",
    "df.head()"
   ]
  },
  {
   "cell_type": "markdown",
   "id": "c27265bd",
   "metadata": {},
   "source": [
    "## Data Cleaning"
   ]
  },
  {
   "cell_type": "markdown",
   "id": "40b4a428",
   "metadata": {},
   "source": [
    "#### Check Null Values"
   ]
  },
  {
   "cell_type": "code",
   "execution_count": 3,
   "id": "2b94aa8f",
   "metadata": {},
   "outputs": [
    {
     "name": "stdout",
     "output_type": "stream",
     "text": [
      "bmi 3.93346 % missing values\n"
     ]
    }
   ],
   "source": [
    "##these are the features with nan value\n",
    "features_with_na=[features for features in df.columns if df[features].isnull().sum()>=1]\n",
    "for feature in features_with_na:\n",
    "    print(feature,np.round(df[feature].isnull().mean()*100,5), '% missing values')"
   ]
  },
  {
   "cell_type": "markdown",
   "id": "76eafe12",
   "metadata": {},
   "source": [
    "### 3.2 Other Data Cleaning steps"
   ]
  },
  {
   "cell_type": "markdown",
   "id": "471fd48f",
   "metadata": {},
   "source": [
    "**Handling Duplicates**"
   ]
  },
  {
   "cell_type": "code",
   "execution_count": 4,
   "id": "d8fa17e0",
   "metadata": {},
   "outputs": [
    {
     "data": {
      "text/plain": [
       "0"
      ]
     },
     "execution_count": 4,
     "metadata": {},
     "output_type": "execute_result"
    }
   ],
   "source": [
    "# Checking for duplicates\n",
    "df.duplicated().sum()"
   ]
  },
  {
   "cell_type": "markdown",
   "id": "5cf6d275",
   "metadata": {},
   "source": [
    "**Remove ID from the dataset as it cannot used in Model Training**\n",
    "\n",
    "**As a Report form the EDA we can drop `gender` and `Resident_type` as well**"
   ]
  },
  {
   "cell_type": "code",
   "execution_count": 5,
   "id": "828c0a89",
   "metadata": {},
   "outputs": [],
   "source": [
    "df.drop(['id', 'gender', 'Residence_type'], inplace=True, axis=1)"
   ]
  },
  {
   "cell_type": "markdown",
   "id": "6d48a184",
   "metadata": {},
   "source": [
    "# Feature Engineering"
   ]
  },
  {
   "cell_type": "markdown",
   "id": "66542de1",
   "metadata": {},
   "source": [
    "### Type of Features"
   ]
  },
  {
   "cell_type": "code",
   "execution_count": 6,
   "id": "baff199f",
   "metadata": {},
   "outputs": [
    {
     "name": "stdout",
     "output_type": "stream",
     "text": [
      "Num of Numerical Features : 6\n"
     ]
    },
    {
     "data": {
      "text/plain": [
       "['age', 'hypertension', 'heart_disease', 'avg_glucose_level', 'bmi', 'stroke']"
      ]
     },
     "execution_count": 6,
     "metadata": {},
     "output_type": "execute_result"
    }
   ],
   "source": [
    "numeric_features = [feature for feature in df.columns if df[feature].dtype != 'O']\n",
    "print('Num of Numerical Features :', len(numeric_features))\n",
    "numeric_features"
   ]
  },
  {
   "cell_type": "code",
   "execution_count": 7,
   "id": "ff997805",
   "metadata": {},
   "outputs": [
    {
     "name": "stdout",
     "output_type": "stream",
     "text": [
      "Num of Categorical Features : 3\n"
     ]
    },
    {
     "data": {
      "text/plain": [
       "['ever_married', 'work_type', 'smoking_status']"
      ]
     },
     "execution_count": 7,
     "metadata": {},
     "output_type": "execute_result"
    }
   ],
   "source": [
    "categorical_features = [feature for feature in df.columns if df[feature].dtype == 'O']\n",
    "print('Num of Categorical Features :', len(categorical_features))\n",
    "categorical_features"
   ]
  },
  {
   "cell_type": "markdown",
   "id": "3ca43676",
   "metadata": {},
   "source": [
    "**Discrete Features**"
   ]
  },
  {
   "cell_type": "code",
   "execution_count": 8,
   "id": "812ee6e0",
   "metadata": {},
   "outputs": [
    {
     "name": "stdout",
     "output_type": "stream",
     "text": [
      "Num of Discrete Features : 3\n"
     ]
    },
    {
     "data": {
      "text/plain": [
       "['hypertension', 'heart_disease', 'stroke']"
      ]
     },
     "execution_count": 8,
     "metadata": {},
     "output_type": "execute_result"
    }
   ],
   "source": [
    "discrete_features=[feature for feature in numeric_features if (len(df[feature].unique())<=25)]\n",
    "print('Num of Discrete Features :',len(discrete_features))\n",
    "discrete_features"
   ]
  },
  {
   "cell_type": "markdown",
   "id": "3e6740bf",
   "metadata": {},
   "source": [
    "**Continuous features**"
   ]
  },
  {
   "cell_type": "code",
   "execution_count": 9,
   "id": "e501c72b",
   "metadata": {},
   "outputs": [
    {
     "name": "stdout",
     "output_type": "stream",
     "text": [
      "Num of Continuous Features : 3\n"
     ]
    },
    {
     "data": {
      "text/plain": [
       "['age', 'avg_glucose_level', 'bmi']"
      ]
     },
     "execution_count": 9,
     "metadata": {},
     "output_type": "execute_result"
    }
   ],
   "source": [
    "continuous_features=[feature for feature in numeric_features if len(df[feature].unique()) > 25]\n",
    "print('Num of Continuous Features :',len(continuous_features))\n",
    "continuous_features"
   ]
  },
  {
   "cell_type": "markdown",
   "id": "c1dedda3",
   "metadata": {},
   "source": [
    "**Imputing Null Values to Check VIF(Multi-Collinearity)**"
   ]
  },
  {
   "cell_type": "code",
   "execution_count": 10,
   "id": "0d745af3",
   "metadata": {},
   "outputs": [],
   "source": [
    "# Create copy of dataframe to check variance inflation factor\n",
    "df1 = df.copy()\n",
    "for i in continuous_features:\n",
    "    df1[i].fillna(df1[i].median(), inplace=True)"
   ]
  },
  {
   "cell_type": "markdown",
   "id": "7a9c40c8",
   "metadata": {},
   "source": [
    "### Multicollinearity Check\n",
    "#### Variance Inflation Factor (VIF)"
   ]
  },
  {
   "cell_type": "markdown",
   "id": "bcc04f4d",
   "metadata": {},
   "source": [
    "* Multicollinearity occurs when there are two or more independent variables in a multiple regression model, which have a high correlation among themselves. When some features are highly correlated.\n",
    "* Multicollinearity can be detected using various techniques, one such technique being the Variance Inflation Factor(VIF)."
   ]
  },
  {
   "cell_type": "code",
   "execution_count": 11,
   "id": "747d9a82",
   "metadata": {},
   "outputs": [],
   "source": [
    "from statsmodels.stats.outliers_influence import variance_inflation_factor\n",
    "def compute_vif(considered_features, df):\n",
    "    \n",
    "    X = df[considered_features]\n",
    "    # the calculation of variance inflation requires a constant\n",
    "    X['intercept'] = 1\n",
    "    \n",
    "    # create dataframe to store vif values\n",
    "    vif = pd.DataFrame()\n",
    "    vif[\"Variable\"] = X.columns\n",
    "    vif[\"VIF\"] = [variance_inflation_factor(X.values, i) for i in range(X.shape[1])]\n",
    "    vif = vif[vif['Variable']!='intercept']\n",
    "    return vif"
   ]
  },
  {
   "cell_type": "code",
   "execution_count": 12,
   "id": "a9509481",
   "metadata": {},
   "outputs": [
    {
     "data": {
      "text/html": [
       "<div>\n",
       "<style scoped>\n",
       "    .dataframe tbody tr th:only-of-type {\n",
       "        vertical-align: middle;\n",
       "    }\n",
       "\n",
       "    .dataframe tbody tr th {\n",
       "        vertical-align: top;\n",
       "    }\n",
       "\n",
       "    .dataframe thead th {\n",
       "        text-align: right;\n",
       "    }\n",
       "</style>\n",
       "<table border=\"1\" class=\"dataframe\">\n",
       "  <thead>\n",
       "    <tr style=\"text-align: right;\">\n",
       "      <th></th>\n",
       "      <th>Variable</th>\n",
       "      <th>VIF</th>\n",
       "    </tr>\n",
       "  </thead>\n",
       "  <tbody>\n",
       "    <tr>\n",
       "      <th>0</th>\n",
       "      <td>age</td>\n",
       "      <td>1.162810</td>\n",
       "    </tr>\n",
       "    <tr>\n",
       "      <th>1</th>\n",
       "      <td>avg_glucose_level</td>\n",
       "      <td>1.070325</td>\n",
       "    </tr>\n",
       "    <tr>\n",
       "      <th>2</th>\n",
       "      <td>bmi</td>\n",
       "      <td>1.128268</td>\n",
       "    </tr>\n",
       "  </tbody>\n",
       "</table>\n",
       "</div>"
      ],
      "text/plain": [
       "            Variable       VIF\n",
       "0                age  1.162810\n",
       "1  avg_glucose_level  1.070325\n",
       "2                bmi  1.128268"
      ]
     },
     "execution_count": 12,
     "metadata": {},
     "output_type": "execute_result"
    }
   ],
   "source": [
    "compute_vif(continuous_features, df1)"
   ]
  },
  {
   "cell_type": "markdown",
   "id": "482cfb4c",
   "metadata": {},
   "source": [
    " ” VIF determines the strength of the correlation between the independent variables. It is predicted by taking a variable and regressing it against every other variable “ \n",
    "\n",
    "VIF above 5 is indicator of Multicollinearity  \n",
    "\n",
    "**- This Dataset Doesnt have any Multicollinearity**"
   ]
  },
  {
   "cell_type": "markdown",
   "id": "d234a954",
   "metadata": {},
   "source": [
    "### Check Outlier and Capping it"
   ]
  },
  {
   "cell_type": "code",
   "execution_count": 13,
   "id": "8e580ec1",
   "metadata": {},
   "outputs": [
    {
     "data": {
      "image/png": "[encoded data removed]",
      "text/plain": [
       "<Figure size 1000x600 with 1 Axes>"
      ]
     },
     "metadata": {},
     "output_type": "display_data"
    },
    {
     "data": {
      "image/png": "[encoded data removed]",
      "text/plain": [
       "<Figure size 1000x600 with 1 Axes>"
      ]
     },
     "metadata": {},
     "output_type": "display_data"
    },
    {
     "data": {
      "image/png": "[encoded data removed]",
      "text/plain": [
       "<Figure size 1000x600 with 1 Axes>"
      ]
     },
     "metadata": {},
     "output_type": "display_data"
    }
   ],
   "source": [
    "for i in continuous_features:\n",
    "        plt.figure(figsize=(10,6))\n",
    "        sns.set_style('ticks')\n",
    "        ax = sns.boxplot(df[i])"
   ]
  },
  {
   "cell_type": "markdown",
   "id": "b2c78731",
   "metadata": {},
   "source": [
    "**Standard deviation method For Outlier Handling?**"
   ]
  },
  {
   "cell_type": "markdown",
   "id": "d1f7c760",
   "metadata": {},
   "source": [
    "- Outlier removal using standard deviation procedure.\n",
    "- Usually z-score =3 is considered as a cut-off value to set the limit. Therefore, any z-score greater than +3 or less than -3 is considered as outlier which is pretty much similar to standard deviation method.\n",
    "- Here we can remove outliers after 3rd standard deviation or z-score +3 and -3. used to remove only extreme outlier points"
   ]
  },
  {
   "cell_type": "code",
   "execution_count": 14,
   "id": "45fedab7",
   "metadata": {},
   "outputs": [],
   "source": [
    "def outlier_removal(column, df):\n",
    "    upper_limit = df[column].mean() + 3*df[column].std()\n",
    "    lower_limit = df[column].mean() - 3*df[column].std()\n",
    "    df = df[(df[column] < upper_limit) & (df[column] > lower_limit)]\n",
    "    return df"
   ]
  },
  {
   "cell_type": "code",
   "execution_count": 15,
   "id": "c233b8ff",
   "metadata": {},
   "outputs": [
    {
     "data": {
      "text/plain": [
       "(5110, 9)"
      ]
     },
     "execution_count": 15,
     "metadata": {},
     "output_type": "execute_result"
    }
   ],
   "source": [
    "df.shape"
   ]
  },
  {
   "cell_type": "code",
   "execution_count": 16,
   "id": "b43d27bf",
   "metadata": {},
   "outputs": [],
   "source": [
    "outlier_feature = ['bmi']"
   ]
  },
  {
   "cell_type": "code",
   "execution_count": 17,
   "id": "03a89ff1",
   "metadata": {},
   "outputs": [],
   "source": [
    "for i in range(len(outlier_feature)):\n",
    "    df = outlier_removal(outlier_feature[i], df)"
   ]
  },
  {
   "cell_type": "code",
   "execution_count": 18,
   "id": "de1cf3a9",
   "metadata": {
    "scrolled": false
   },
   "outputs": [
    {
     "data": {
      "image/png": "[encoded data removed]",
      "text/plain": [
       "<Figure size 1000x600 with 1 Axes>"
      ]
     },
     "metadata": {},
     "output_type": "display_data"
    },
    {
     "data": {
      "image/png": "[encoded data removed]",
      "text/plain": [
       "<Figure size 1000x600 with 1 Axes>"
      ]
     },
     "metadata": {},
     "output_type": "display_data"
    },
    {
     "data": {
      "image/png": "[encoded data removed]",
      "text/plain": [
       "<Figure size 1000x600 with 1 Axes>"
      ]
     },
     "metadata": {},
     "output_type": "display_data"
    }
   ],
   "source": [
    "for i in continuous_features:\n",
    "        plt.figure(figsize=(10,6))\n",
    "        sns.set_style('ticks')\n",
    "        ax = sns.boxplot(df[i])"
   ]
  },
  {
   "cell_type": "code",
   "execution_count": 19,
   "id": "ecdc226a",
   "metadata": {},
   "outputs": [
    {
     "data": {
      "text/plain": [
       "(4851, 9)"
      ]
     },
     "execution_count": 19,
     "metadata": {},
     "output_type": "execute_result"
    }
   ],
   "source": [
    "df.shape"
   ]
  },
  {
   "cell_type": "markdown",
   "id": "ca2d817d",
   "metadata": {},
   "source": [
    "## Feature Transformation"
   ]
  },
  {
   "cell_type": "code",
   "execution_count": 20,
   "id": "a9d716af",
   "metadata": {},
   "outputs": [
    {
     "data": {
      "text/plain": [
       "age                 -0.115593\n",
       "avg_glucose_level    1.626970\n",
       "bmi                  0.466922\n",
       "dtype: float64"
      ]
     },
     "execution_count": 20,
     "metadata": {},
     "output_type": "execute_result"
    }
   ],
   "source": [
    "df[continuous_features].skew(axis=0)"
   ]
  },
  {
   "cell_type": "markdown",
   "id": "1786c0ad",
   "metadata": {},
   "source": [
    "* **If Skewness is above 2 then the feature is Highly skewed**\n",
    "* **If Skewness is above 1.5 then the feature is Moderately skewed**"
   ]
  },
  {
   "cell_type": "code",
   "execution_count": 21,
   "id": "a921c3a0",
   "metadata": {
    "scrolled": false
   },
   "outputs": [
    {
     "data": {
      "image/png": "[encoded data removed]",
      "text/plain": [
       "<Figure size 1200x600 with 3 Axes>"
      ]
     },
     "metadata": {},
     "output_type": "display_data"
    }
   ],
   "source": [
    "# distribution of data before scaling\n",
    "plt.figure(figsize=(12, 6))\n",
    "for i, col in enumerate(continuous_features):\n",
    "    plt.subplot(2, 2, i+1)\n",
    "    sns.kdeplot(x=df1[col], color='indianred')\n",
    "    plt.xlabel(col)\n",
    "    plt.tight_layout()"
   ]
  },
  {
   "cell_type": "markdown",
   "id": "e956e76d",
   "metadata": {},
   "source": [
    "- **Here `avg_glucose_level` is slightly skewed**\n",
    "- **`age` column have kutosis and it is platykurtic**\n",
    "- **`bmi` is normally distributed with very little data on the tails**"
   ]
  },
  {
   "cell_type": "code",
   "execution_count": 22,
   "id": "6b094f98",
   "metadata": {},
   "outputs": [
    {
     "data": {
      "text/html": [
       "<div>\n",
       "<style scoped>\n",
       "    .dataframe tbody tr th:only-of-type {\n",
       "        vertical-align: middle;\n",
       "    }\n",
       "\n",
       "    .dataframe tbody tr th {\n",
       "        vertical-align: top;\n",
       "    }\n",
       "\n",
       "    .dataframe thead th {\n",
       "        text-align: right;\n",
       "    }\n",
       "</style>\n",
       "<table border=\"1\" class=\"dataframe\">\n",
       "  <thead>\n",
       "    <tr style=\"text-align: right;\">\n",
       "      <th></th>\n",
       "      <th>age</th>\n",
       "      <th>hypertension</th>\n",
       "      <th>heart_disease</th>\n",
       "      <th>ever_married</th>\n",
       "      <th>work_type</th>\n",
       "      <th>avg_glucose_level</th>\n",
       "      <th>bmi</th>\n",
       "      <th>smoking_status</th>\n",
       "      <th>stroke</th>\n",
       "    </tr>\n",
       "  </thead>\n",
       "  <tbody>\n",
       "    <tr>\n",
       "      <th>0</th>\n",
       "      <td>67.0</td>\n",
       "      <td>0</td>\n",
       "      <td>1</td>\n",
       "      <td>Yes</td>\n",
       "      <td>Private</td>\n",
       "      <td>228.69</td>\n",
       "      <td>36.6</td>\n",
       "      <td>formerly smoked</td>\n",
       "      <td>1</td>\n",
       "    </tr>\n",
       "    <tr>\n",
       "      <th>2</th>\n",
       "      <td>80.0</td>\n",
       "      <td>0</td>\n",
       "      <td>1</td>\n",
       "      <td>Yes</td>\n",
       "      <td>Private</td>\n",
       "      <td>105.92</td>\n",
       "      <td>32.5</td>\n",
       "      <td>never smoked</td>\n",
       "      <td>1</td>\n",
       "    </tr>\n",
       "    <tr>\n",
       "      <th>3</th>\n",
       "      <td>49.0</td>\n",
       "      <td>0</td>\n",
       "      <td>0</td>\n",
       "      <td>Yes</td>\n",
       "      <td>Private</td>\n",
       "      <td>171.23</td>\n",
       "      <td>34.4</td>\n",
       "      <td>smokes</td>\n",
       "      <td>1</td>\n",
       "    </tr>\n",
       "    <tr>\n",
       "      <th>4</th>\n",
       "      <td>79.0</td>\n",
       "      <td>1</td>\n",
       "      <td>0</td>\n",
       "      <td>Yes</td>\n",
       "      <td>Self-employed</td>\n",
       "      <td>174.12</td>\n",
       "      <td>24.0</td>\n",
       "      <td>never smoked</td>\n",
       "      <td>1</td>\n",
       "    </tr>\n",
       "    <tr>\n",
       "      <th>5</th>\n",
       "      <td>81.0</td>\n",
       "      <td>0</td>\n",
       "      <td>0</td>\n",
       "      <td>Yes</td>\n",
       "      <td>Private</td>\n",
       "      <td>186.21</td>\n",
       "      <td>29.0</td>\n",
       "      <td>formerly smoked</td>\n",
       "      <td>1</td>\n",
       "    </tr>\n",
       "  </tbody>\n",
       "</table>\n",
       "</div>"
      ],
      "text/plain": [
       "    age  hypertension  heart_disease ever_married      work_type   \n",
       "0  67.0             0              1          Yes        Private  \\\n",
       "2  80.0             0              1          Yes        Private   \n",
       "3  49.0             0              0          Yes        Private   \n",
       "4  79.0             1              0          Yes  Self-employed   \n",
       "5  81.0             0              0          Yes        Private   \n",
       "\n",
       "   avg_glucose_level   bmi   smoking_status  stroke  \n",
       "0             228.69  36.6  formerly smoked       1  \n",
       "2             105.92  32.5     never smoked       1  \n",
       "3             171.23  34.4           smokes       1  \n",
       "4             174.12  24.0     never smoked       1  \n",
       "5             186.21  29.0  formerly smoked       1  "
      ]
     },
     "execution_count": 22,
     "metadata": {},
     "output_type": "execute_result"
    }
   ],
   "source": [
    "df.head(5)"
   ]
  },
  {
   "cell_type": "markdown",
   "id": "5a2cf140",
   "metadata": {},
   "source": [
    "### Split X and Y"
   ]
  },
  {
   "cell_type": "code",
   "execution_count": 23,
   "id": "606bd5ec",
   "metadata": {},
   "outputs": [],
   "source": [
    "from sklearn.model_selection import train_test_split\n",
    "X = df.drop(['stroke'], axis=1)\n",
    "y = df['stroke']"
   ]
  },
  {
   "cell_type": "markdown",
   "id": "9455c01a",
   "metadata": {},
   "source": [
    "* **Split Dataframe to X and y**\n",
    "* **Here we set a variable X i.e, independent columns, and a variable y i.e, dependent column as the `stroke` column.**\n"
   ]
  },
  {
   "cell_type": "code",
   "execution_count": 24,
   "id": "00e06fc4",
   "metadata": {},
   "outputs": [
    {
     "name": "stdout",
     "output_type": "stream",
     "text": [
      "ever_married : 2\n",
      "work_type : 5\n",
      "smoking_status : 4\n"
     ]
    }
   ],
   "source": [
    "for feature in categorical_features:\n",
    "    print(feature,':', X[feature].nunique())"
   ]
  },
  {
   "cell_type": "markdown",
   "id": "51a3853d",
   "metadata": {},
   "source": [
    "## Feature Encoding and Scaling"
   ]
  },
  {
   "cell_type": "markdown",
   "id": "29dbaf2d",
   "metadata": {},
   "source": [
    " **One Hot Encoding for Columns which had lesser unique values and not ordinal**\n",
    "* One hot encoding is a process by which categorical variables are converted into a form that could be provided to ML algorithms to do a better job in prediction."
   ]
  },
  {
   "cell_type": "code",
   "execution_count": 25,
   "id": "d0353dca",
   "metadata": {
    "scrolled": true
   },
   "outputs": [
    {
     "name": "stdout",
     "output_type": "stream",
     "text": [
      "age: mean = 42.83, median = 44.00\n",
      "avg_glucose_level: mean = 105.10, median = 91.68\n",
      "bmi: mean = 28.54, median = 27.90\n"
     ]
    }
   ],
   "source": [
    "for i in continuous_features:\n",
    "    print(f'{i}: mean = {df[i].mean():.2f}, median = {df[i].median():.2f}')"
   ]
  },
  {
   "cell_type": "markdown",
   "id": "bcec9239",
   "metadata": {},
   "source": [
    "There are no missing values in `age` and `avg_glucose_level` and only `bmi` column should be handled. Based on the above result we can inpute the column with either mean or median. We can go with median imputation since it is robust than mean imputer."
   ]
  },
  {
   "cell_type": "markdown",
   "id": "1c240cad",
   "metadata": {},
   "source": [
    "* **Mean imputer:** Since we handeled outlier for the continuous features the mean and median of the features are nearly same. When there are no outliers mean performs an a better imputer.\n",
    "* **Standardscaler:** As the features distribution are nearly normal we use standard scaler.\n",
    "* **Power Transformer:** Since avg_glucose_level are skewed we use Power Transformer on them"
   ]
  },
  {
   "cell_type": "code",
   "execution_count": 26,
   "id": "348ccd3f",
   "metadata": {},
   "outputs": [],
   "source": [
    "# Create Column Transformer with 3 types of transformers\n",
    "categorical_features = X.select_dtypes(include=\"object\").columns\n",
    "num_feature = numeric_features.copy()\n",
    "num_feature.remove('stroke')\n",
    "transform_features=['avg_glucose_level']\n",
    "\n",
    "\n",
    "from sklearn.preprocessing import OneHotEncoder, StandardScaler, PowerTransformer\n",
    "from sklearn.compose import ColumnTransformer\n",
    "from sklearn.pipeline import Pipeline\n",
    "from sklearn.impute import SimpleImputer\n",
    "\n",
    "numeric_pipeline = Pipeline(steps=[\n",
    "    ('imputer', SimpleImputer(strategy='median')),\n",
    "    ('scaler', StandardScaler())\n",
    "])\n",
    "\n",
    "categorical_pipeline = Pipeline(steps=[\n",
    "    ('one_hot_encoder', OneHotEncoder()),\n",
    "    ('scaler', StandardScaler(with_mean=False))\n",
    "]\n",
    ")\n",
    "\n",
    "transform_pipe = Pipeline(steps=[\n",
    "    ('transformer', PowerTransformer(standardize=True))\n",
    "])\n",
    "\n",
    "preprocessor = ColumnTransformer(\n",
    "    [\n",
    "        (\"numeric_Pipeline\",numeric_pipeline,num_feature),\n",
    "        (\"Categorical_Pipeline\",categorical_pipeline, categorical_features),\n",
    "        (\"Power_Transformation\", transform_pipe, transform_features)\n",
    "]\n",
    ")"
   ]
  },
  {
   "cell_type": "code",
   "execution_count": 27,
   "id": "073fea39",
   "metadata": {},
   "outputs": [],
   "source": [
    "X= preprocessor.fit_transform(X)"
   ]
  },
  {
   "cell_type": "markdown",
   "id": "b0cb1742",
   "metadata": {},
   "source": [
    "## Handling Imbalanced Dataset"
   ]
  },
  {
   "cell_type": "markdown",
   "id": "4110b6b4",
   "metadata": {},
   "source": [
    "* Handling Imbalanced Target Variable.\n",
    "* Synthetic Minority Oversampling Technique or SMOTE is another technique to oversample the minority class. Simply adding duplicate records of minority class often don’t add any new information to the model.\n",
    "\n",
    "* SMOTE is one of the famous oversampling techniques and is very effective in handling class imbalance. The idea is to combine SMOTE with some undersampling techniques (ENN, Tomek) to increase the effectiveness of handling the imbalanced class."
   ]
  },
  {
   "cell_type": "markdown",
   "id": "f3741fc1",
   "metadata": {},
   "source": [
    " **SMOTE+ENN** is one of such a hybrid technique that aims to clean overlapping data points for each of the classes distributed in sample space.\n",
    " \n",
    "This method combines the SMOTE ability to generate synthetic data for minority class and uses ENN to remove overlapping observation of both the classes\n",
    " \n",
    " - **To add new data of minority class**\n",
    " 1. Choose random data from the minority class.\n",
    " 2. Calculate the distance between the random data and its k nearest neighbors.\n",
    " 3. Multiply the difference with a random number between 0 and 1, then add the result to the minority class as a synthetic sample.\n",
    " 4. Repeat step number 2–3 until the desired proportion of minority class is met.\n",
    " \n",
    " - **To remove the data points of both classes**\n",
    " 1. Determine K, as the number of nearest neighbors. If not determined, then K=3.\n",
    " 2. Find the K-nearest neighbor of the observation among the other observations in the dataset, then return the majority class from the K-nearest neighbor.\n",
    " 3. If the class of the observation and the majority class from the observation’s K-nearest neighbor is different, then the observation and its K-nearest neighbor are deleted from the dataset.\n",
    " 4. Repeat step 2 and 3 until the desired proportion of each class is fulfilled.\n",
    " \n",
    " - This is method instead of adding duplicate data it synthesises the new data based on the already avalialble classes. Hence we choose this as our imputer method for this problem."
   ]
  },
  {
   "cell_type": "code",
   "execution_count": 28,
   "id": "fde0c1c7",
   "metadata": {},
   "outputs": [],
   "source": [
    "from imblearn.combine import SMOTETomek, SMOTEENN\n",
    "\n",
    "# Resampling the minority class. The strategy can be changed as required.\n",
    "smt = SMOTEENN(random_state=42,sampling_strategy='minority' )\n",
    "# Fit the model to generate the data.\n",
    "X, y = smt.fit_resample(X, y)"
   ]
  },
  {
   "cell_type": "code",
   "execution_count": 29,
   "id": "c449d7f5",
   "metadata": {},
   "outputs": [
    {
     "data": {
      "text/plain": [
       "array([-1.75942083, -0.31385575, -0.2291418 , -0.22600995, -1.47463119,\n",
       "        2.09767055,  0.        ,  0.        ,  0.        ,  0.        ,\n",
       "        0.        ,  2.89655563,  2.17637423,  0.        ,  0.        ,\n",
       "        0.        ,  0.094787  ])"
      ]
     },
     "execution_count": 29,
     "metadata": {},
     "output_type": "execute_result"
    }
   ],
   "source": [
    "X[0]"
   ]
  },
  {
   "cell_type": "markdown",
   "id": "d81b9eaa",
   "metadata": {},
   "source": [
    "## Model Selection\n",
    "* **Here should understand the Various Classification models with default values from these models we can choose top 4 with Highest Accuracy score and proceed with HyperParameter Tuning**"
   ]
  },
  {
   "cell_type": "markdown",
   "id": "91bcc975",
   "metadata": {},
   "source": [
    "## Train Test Split"
   ]
  },
  {
   "cell_type": "markdown",
   "id": "8b9e9fab",
   "metadata": {},
   "source": [
    "**Import Required packages for model training**"
   ]
  },
  {
   "cell_type": "code",
   "execution_count": 30,
   "id": "d82663ae",
   "metadata": {},
   "outputs": [
    {
     "name": "stderr",
     "output_type": "stream",
     "text": [
      "2023-07-10 11:27:02.903646: I tensorflow/core/util/port.cc:110] oneDNN custom operations are on. You may see slightly different numerical results due to floating-point round-off errors from different computation orders. To turn them off, set the environment variable `TF_ENABLE_ONEDNN_OPTS=0`.\n",
      "2023-07-10 11:27:03.443591: I tensorflow/tsl/cuda/cudart_stub.cc:28] Could not find cuda drivers on your machine, GPU will not be used.\n",
      "2023-07-10 11:27:05.341340: I tensorflow/tsl/cuda/cudart_stub.cc:28] Could not find cuda drivers on your machine, GPU will not be used.\n",
      "2023-07-10 11:27:05.347714: I tensorflow/core/platform/cpu_feature_guard.cc:182] This TensorFlow binary is optimized to use available CPU instructions in performance-critical operations.\n",
      "To enable the following instructions: AVX2 AVX512F AVX512_VNNI FMA, in other operations, rebuild TensorFlow with the appropriate compiler flags.\n",
      "2023-07-10 11:27:10.033575: W tensorflow/compiler/tf2tensorrt/utils/py_utils.cc:38] TF-TRT Warning: Could not find TensorRT\n"
     ]
    }
   ],
   "source": [
    "from sklearn.metrics import accuracy_score, classification_report,confusion_matrix, \\\n",
    "                            precision_score, recall_score, f1_score, roc_auc_score,roc_curve \n",
    "import tensorflow as tf\n",
    "from tensorflow import keras\n",
    "from tensorflow.keras import Sequential\n",
    "from tensorflow.keras.layers import Dense\n",
    "import keras_tuner as kt"
   ]
  },
  {
   "cell_type": "code",
   "execution_count": 31,
   "id": "2ff368bd",
   "metadata": {},
   "outputs": [],
   "source": [
    "# separate dataset into validation, train and test\n",
    "X_train, X_val, y_train, y_val = train_test_split(X, y, test_size=0.2, random_state=42)\n",
    "X_val, X_test, y_val, y_test = train_test_split(X_val, y_val, test_size=0.5, random_state=42)"
   ]
  },
  {
   "cell_type": "code",
   "execution_count": 32,
   "id": "392c3601",
   "metadata": {},
   "outputs": [],
   "source": [
    "model = Sequential()\n",
    "\n",
    "model.add(Dense(17, activation='relu', input_dim=17))\n",
    "model.add(Dense(10, activation='relu'))\n",
    "model.add(Dense(5,activation='sigmoid'))\n",
    "model.add(Dense(1, activation='sigmoid'))"
   ]
  },
  {
   "cell_type": "code",
   "execution_count": 33,
   "id": "db1fb4ea",
   "metadata": {},
   "outputs": [
    {
     "name": "stdout",
     "output_type": "stream",
     "text": [
      "Model: \"sequential\"\n",
      "_________________________________________________________________\n",
      " Layer (type)                Output Shape              Param #   \n",
      "=================================================================\n",
      " dense (Dense)               (None, 17)                306       \n",
      "                                                                 \n",
      " dense_1 (Dense)             (None, 10)                180       \n",
      "                                                                 \n",
      " dense_2 (Dense)             (None, 5)                 55        \n",
      "                                                                 \n",
      " dense_3 (Dense)             (None, 1)                 6         \n",
      "                                                                 \n",
      "=================================================================\n",
      "Total params: 547\n",
      "Trainable params: 547\n",
      "Non-trainable params: 0\n",
      "_________________________________________________________________\n"
     ]
    }
   ],
   "source": [
    "model.summary()"
   ]
  },
  {
   "cell_type": "code",
   "execution_count": 34,
   "id": "153ff3fa",
   "metadata": {},
   "outputs": [],
   "source": [
    "model.compile(loss=\"binary_crossentropy\", optimizer='Adam', metrics=['accuracy'])"
   ]
  },
  {
   "cell_type": "code",
   "execution_count": 35,
   "id": "405ba4f8",
   "metadata": {},
   "outputs": [
    {
     "name": "stdout",
     "output_type": "stream",
     "text": [
      "Epoch 1/100\n",
      "139/139 [==============================] - 2s 3ms/step - loss: 0.6328 - accuracy: 0.6693 - val_loss: 0.5446 - val_accuracy: 0.7835\n",
      "Epoch 2/100\n",
      "139/139 [==============================] - 0s 2ms/step - loss: 0.4928 - accuracy: 0.7954 - val_loss: 0.4291 - val_accuracy: 0.8627\n",
      "Epoch 3/100\n",
      "139/139 [==============================] - 0s 2ms/step - loss: 0.4067 - accuracy: 0.8522 - val_loss: 0.3737 - val_accuracy: 0.8780\n",
      "Epoch 4/100\n",
      "139/139 [==============================] - 0s 2ms/step - loss: 0.3618 - accuracy: 0.8723 - val_loss: 0.3437 - val_accuracy: 0.8854\n",
      "Epoch 5/100\n",
      "139/139 [==============================] - 0s 2ms/step - loss: 0.3352 - accuracy: 0.8803 - val_loss: 0.3230 - val_accuracy: 0.8897\n",
      "Epoch 6/100\n",
      "139/139 [==============================] - 0s 2ms/step - loss: 0.3172 - accuracy: 0.8834 - val_loss: 0.3132 - val_accuracy: 0.8870\n",
      "Epoch 7/100\n",
      "139/139 [==============================] - 0s 2ms/step - loss: 0.3034 - accuracy: 0.8873 - val_loss: 0.2983 - val_accuracy: 0.8923\n",
      "Epoch 8/100\n",
      "139/139 [==============================] - 0s 2ms/step - loss: 0.2914 - accuracy: 0.8920 - val_loss: 0.2912 - val_accuracy: 0.8955\n",
      "Epoch 9/100\n",
      "139/139 [==============================] - 0s 2ms/step - loss: 0.2799 - accuracy: 0.8957 - val_loss: 0.2784 - val_accuracy: 0.9029\n",
      "Epoch 10/100\n",
      "139/139 [==============================] - 0s 2ms/step - loss: 0.2701 - accuracy: 0.9011 - val_loss: 0.2723 - val_accuracy: 0.9002\n",
      "Epoch 11/100\n",
      "139/139 [==============================] - 0s 2ms/step - loss: 0.2625 - accuracy: 0.9033 - val_loss: 0.2635 - val_accuracy: 0.9029\n",
      "Epoch 12/100\n",
      "139/139 [==============================] - 0s 2ms/step - loss: 0.2586 - accuracy: 0.9061 - val_loss: 0.2582 - val_accuracy: 0.9113\n",
      "Epoch 13/100\n",
      "139/139 [==============================] - 0s 2ms/step - loss: 0.2483 - accuracy: 0.9113 - val_loss: 0.2543 - val_accuracy: 0.9102\n",
      "Epoch 14/100\n",
      "139/139 [==============================] - 0s 2ms/step - loss: 0.2432 - accuracy: 0.9124 - val_loss: 0.2488 - val_accuracy: 0.9097\n",
      "Epoch 15/100\n",
      "139/139 [==============================] - 0s 2ms/step - loss: 0.2381 - accuracy: 0.9126 - val_loss: 0.2440 - val_accuracy: 0.9171\n",
      "Epoch 16/100\n",
      "139/139 [==============================] - 0s 2ms/step - loss: 0.2311 - accuracy: 0.9215 - val_loss: 0.2408 - val_accuracy: 0.9166\n",
      "Epoch 17/100\n",
      "139/139 [==============================] - 0s 2ms/step - loss: 0.2270 - accuracy: 0.9201 - val_loss: 0.2354 - val_accuracy: 0.9192\n",
      "Epoch 18/100\n",
      "139/139 [==============================] - 0s 2ms/step - loss: 0.2237 - accuracy: 0.9221 - val_loss: 0.2329 - val_accuracy: 0.9171\n",
      "Epoch 19/100\n",
      "139/139 [==============================] - 0s 2ms/step - loss: 0.2176 - accuracy: 0.9251 - val_loss: 0.2301 - val_accuracy: 0.9203\n",
      "Epoch 20/100\n",
      "139/139 [==============================] - 0s 2ms/step - loss: 0.2142 - accuracy: 0.9239 - val_loss: 0.2251 - val_accuracy: 0.9219\n",
      "Epoch 21/100\n",
      "139/139 [==============================] - 0s 2ms/step - loss: 0.2136 - accuracy: 0.9255 - val_loss: 0.2240 - val_accuracy: 0.9219\n",
      "Epoch 22/100\n",
      "139/139 [==============================] - 0s 2ms/step - loss: 0.2070 - accuracy: 0.9271 - val_loss: 0.2198 - val_accuracy: 0.9266\n",
      "Epoch 23/100\n",
      "139/139 [==============================] - 0s 2ms/step - loss: 0.2039 - accuracy: 0.9294 - val_loss: 0.2175 - val_accuracy: 0.9256\n",
      "Epoch 24/100\n",
      "139/139 [==============================] - 0s 2ms/step - loss: 0.2000 - accuracy: 0.9303 - val_loss: 0.2211 - val_accuracy: 0.9224\n",
      "Epoch 25/100\n",
      "139/139 [==============================] - 0s 2ms/step - loss: 0.1976 - accuracy: 0.9292 - val_loss: 0.2129 - val_accuracy: 0.9256\n",
      "Epoch 26/100\n",
      "139/139 [==============================] - 0s 2ms/step - loss: 0.1943 - accuracy: 0.9316 - val_loss: 0.2110 - val_accuracy: 0.9271\n",
      "Epoch 27/100\n",
      "139/139 [==============================] - 0s 2ms/step - loss: 0.1904 - accuracy: 0.9339 - val_loss: 0.2107 - val_accuracy: 0.9319\n",
      "Epoch 28/100\n",
      "139/139 [==============================] - 0s 2ms/step - loss: 0.1875 - accuracy: 0.9339 - val_loss: 0.2089 - val_accuracy: 0.9314\n",
      "Epoch 29/100\n",
      "139/139 [==============================] - 0s 2ms/step - loss: 0.1869 - accuracy: 0.9337 - val_loss: 0.2051 - val_accuracy: 0.9282\n",
      "Epoch 30/100\n",
      "139/139 [==============================] - 0s 2ms/step - loss: 0.1828 - accuracy: 0.9357 - val_loss: 0.2072 - val_accuracy: 0.9314\n",
      "Epoch 31/100\n",
      "139/139 [==============================] - 0s 2ms/step - loss: 0.1801 - accuracy: 0.9391 - val_loss: 0.2045 - val_accuracy: 0.9287\n",
      "Epoch 32/100\n",
      "139/139 [==============================] - 0s 2ms/step - loss: 0.1800 - accuracy: 0.9348 - val_loss: 0.2008 - val_accuracy: 0.9293\n",
      "Epoch 33/100\n",
      "139/139 [==============================] - 0s 2ms/step - loss: 0.1765 - accuracy: 0.9378 - val_loss: 0.1974 - val_accuracy: 0.9335\n",
      "Epoch 34/100\n",
      "139/139 [==============================] - 0s 2ms/step - loss: 0.1736 - accuracy: 0.9382 - val_loss: 0.1982 - val_accuracy: 0.9324\n",
      "Epoch 35/100\n",
      "139/139 [==============================] - 0s 2ms/step - loss: 0.1722 - accuracy: 0.9393 - val_loss: 0.1984 - val_accuracy: 0.9298\n",
      "Epoch 36/100\n",
      "139/139 [==============================] - 0s 2ms/step - loss: 0.1697 - accuracy: 0.9427 - val_loss: 0.1976 - val_accuracy: 0.9319\n",
      "Epoch 37/100\n",
      "139/139 [==============================] - 0s 2ms/step - loss: 0.1695 - accuracy: 0.9430 - val_loss: 0.1940 - val_accuracy: 0.9324\n",
      "Epoch 38/100\n",
      "139/139 [==============================] - 0s 2ms/step - loss: 0.1660 - accuracy: 0.9432 - val_loss: 0.1917 - val_accuracy: 0.9340\n",
      "Epoch 39/100\n",
      "139/139 [==============================] - 0s 2ms/step - loss: 0.1641 - accuracy: 0.9455 - val_loss: 0.1953 - val_accuracy: 0.9324\n",
      "Epoch 40/100\n",
      "139/139 [==============================] - 0s 2ms/step - loss: 0.1642 - accuracy: 0.9445 - val_loss: 0.1910 - val_accuracy: 0.9351\n",
      "Epoch 41/100\n",
      "139/139 [==============================] - 0s 2ms/step - loss: 0.1647 - accuracy: 0.9427 - val_loss: 0.1875 - val_accuracy: 0.9345\n",
      "Epoch 42/100\n",
      "139/139 [==============================] - 0s 3ms/step - loss: 0.1603 - accuracy: 0.9468 - val_loss: 0.1875 - val_accuracy: 0.9356\n",
      "Epoch 43/100\n",
      "139/139 [==============================] - 0s 3ms/step - loss: 0.1620 - accuracy: 0.9470 - val_loss: 0.1861 - val_accuracy: 0.9388\n",
      "Epoch 44/100\n",
      "139/139 [==============================] - 0s 3ms/step - loss: 0.1568 - accuracy: 0.9486 - val_loss: 0.1837 - val_accuracy: 0.9366\n",
      "Epoch 45/100\n",
      "139/139 [==============================] - 0s 3ms/step - loss: 0.1554 - accuracy: 0.9491 - val_loss: 0.1838 - val_accuracy: 0.9377\n",
      "Epoch 46/100\n",
      "139/139 [==============================] - 0s 3ms/step - loss: 0.1531 - accuracy: 0.9488 - val_loss: 0.1848 - val_accuracy: 0.9382\n",
      "Epoch 47/100\n",
      "139/139 [==============================] - 0s 2ms/step - loss: 0.1525 - accuracy: 0.9495 - val_loss: 0.1879 - val_accuracy: 0.9361\n",
      "Epoch 48/100\n",
      "139/139 [==============================] - 0s 2ms/step - loss: 0.1507 - accuracy: 0.9518 - val_loss: 0.1815 - val_accuracy: 0.9424\n",
      "Epoch 49/100\n",
      "139/139 [==============================] - 0s 3ms/step - loss: 0.1508 - accuracy: 0.9509 - val_loss: 0.1820 - val_accuracy: 0.9398\n",
      "Epoch 50/100\n",
      "139/139 [==============================] - 0s 3ms/step - loss: 0.1487 - accuracy: 0.9520 - val_loss: 0.1804 - val_accuracy: 0.9409\n",
      "Epoch 51/100\n",
      "139/139 [==============================] - 0s 2ms/step - loss: 0.1465 - accuracy: 0.9516 - val_loss: 0.1833 - val_accuracy: 0.9414\n",
      "Epoch 52/100\n",
      "139/139 [==============================] - 0s 2ms/step - loss: 0.1466 - accuracy: 0.9527 - val_loss: 0.1787 - val_accuracy: 0.9435\n",
      "Epoch 53/100\n",
      "139/139 [==============================] - 0s 2ms/step - loss: 0.1452 - accuracy: 0.9529 - val_loss: 0.1804 - val_accuracy: 0.9419\n",
      "Epoch 54/100\n",
      "139/139 [==============================] - 0s 2ms/step - loss: 0.1452 - accuracy: 0.9522 - val_loss: 0.1774 - val_accuracy: 0.9451\n",
      "Epoch 55/100\n",
      "139/139 [==============================] - 0s 2ms/step - loss: 0.1428 - accuracy: 0.9536 - val_loss: 0.1757 - val_accuracy: 0.9456\n",
      "Epoch 56/100\n",
      "139/139 [==============================] - 0s 2ms/step - loss: 0.1417 - accuracy: 0.9545 - val_loss: 0.1768 - val_accuracy: 0.9446\n",
      "Epoch 57/100\n",
      "139/139 [==============================] - 0s 2ms/step - loss: 0.1393 - accuracy: 0.9547 - val_loss: 0.1759 - val_accuracy: 0.9461\n"
     ]
    },
    {
     "name": "stdout",
     "output_type": "stream",
     "text": [
      "Epoch 58/100\n",
      "139/139 [==============================] - 0s 2ms/step - loss: 0.1417 - accuracy: 0.9531 - val_loss: 0.1770 - val_accuracy: 0.9456\n",
      "Epoch 59/100\n",
      "139/139 [==============================] - 0s 2ms/step - loss: 0.1391 - accuracy: 0.9522 - val_loss: 0.1804 - val_accuracy: 0.9435\n",
      "Epoch 60/100\n",
      "139/139 [==============================] - 0s 3ms/step - loss: 0.1379 - accuracy: 0.9561 - val_loss: 0.1759 - val_accuracy: 0.9424\n",
      "Epoch 61/100\n",
      "139/139 [==============================] - 0s 2ms/step - loss: 0.1369 - accuracy: 0.9565 - val_loss: 0.1752 - val_accuracy: 0.9440\n",
      "Epoch 62/100\n",
      "139/139 [==============================] - 0s 2ms/step - loss: 0.1349 - accuracy: 0.9570 - val_loss: 0.1730 - val_accuracy: 0.9461\n",
      "Epoch 63/100\n",
      "139/139 [==============================] - 0s 2ms/step - loss: 0.1357 - accuracy: 0.9568 - val_loss: 0.1735 - val_accuracy: 0.9467\n",
      "Epoch 64/100\n",
      "139/139 [==============================] - 0s 2ms/step - loss: 0.1327 - accuracy: 0.9545 - val_loss: 0.1734 - val_accuracy: 0.9451\n",
      "Epoch 65/100\n",
      "139/139 [==============================] - 0s 2ms/step - loss: 0.1316 - accuracy: 0.9577 - val_loss: 0.1761 - val_accuracy: 0.9430\n",
      "Epoch 66/100\n",
      "139/139 [==============================] - 0s 2ms/step - loss: 0.1310 - accuracy: 0.9577 - val_loss: 0.1731 - val_accuracy: 0.9440\n",
      "Epoch 67/100\n",
      "139/139 [==============================] - 0s 2ms/step - loss: 0.1298 - accuracy: 0.9574 - val_loss: 0.1741 - val_accuracy: 0.9456\n",
      "Epoch 68/100\n",
      "139/139 [==============================] - 0s 2ms/step - loss: 0.1281 - accuracy: 0.9586 - val_loss: 0.1743 - val_accuracy: 0.9451\n",
      "Epoch 69/100\n",
      "139/139 [==============================] - 0s 2ms/step - loss: 0.1318 - accuracy: 0.9574 - val_loss: 0.1732 - val_accuracy: 0.9467\n",
      "Epoch 70/100\n",
      "139/139 [==============================] - 0s 2ms/step - loss: 0.1280 - accuracy: 0.9608 - val_loss: 0.1719 - val_accuracy: 0.9451\n",
      "Epoch 71/100\n",
      "139/139 [==============================] - 0s 2ms/step - loss: 0.1258 - accuracy: 0.9613 - val_loss: 0.1706 - val_accuracy: 0.9461\n",
      "Epoch 72/100\n",
      "139/139 [==============================] - 0s 2ms/step - loss: 0.1254 - accuracy: 0.9615 - val_loss: 0.1684 - val_accuracy: 0.9467\n",
      "Epoch 73/100\n",
      "139/139 [==============================] - 0s 2ms/step - loss: 0.1234 - accuracy: 0.9608 - val_loss: 0.1892 - val_accuracy: 0.9366\n",
      "Epoch 74/100\n",
      "139/139 [==============================] - 0s 2ms/step - loss: 0.1253 - accuracy: 0.9611 - val_loss: 0.1739 - val_accuracy: 0.9446\n",
      "Epoch 75/100\n",
      "139/139 [==============================] - 0s 2ms/step - loss: 0.1235 - accuracy: 0.9617 - val_loss: 0.1688 - val_accuracy: 0.9477\n",
      "Epoch 76/100\n",
      "139/139 [==============================] - 0s 2ms/step - loss: 0.1224 - accuracy: 0.9617 - val_loss: 0.1715 - val_accuracy: 0.9456\n",
      "Epoch 77/100\n",
      "139/139 [==============================] - 0s 2ms/step - loss: 0.1226 - accuracy: 0.9599 - val_loss: 0.1698 - val_accuracy: 0.9467\n",
      "Epoch 78/100\n",
      "139/139 [==============================] - 0s 2ms/step - loss: 0.1223 - accuracy: 0.9613 - val_loss: 0.1689 - val_accuracy: 0.9488\n",
      "Epoch 79/100\n",
      "139/139 [==============================] - 0s 2ms/step - loss: 0.1217 - accuracy: 0.9624 - val_loss: 0.1687 - val_accuracy: 0.9451\n",
      "Epoch 80/100\n",
      "139/139 [==============================] - 0s 2ms/step - loss: 0.1221 - accuracy: 0.9615 - val_loss: 0.1694 - val_accuracy: 0.9456\n",
      "Epoch 81/100\n",
      "139/139 [==============================] - 0s 2ms/step - loss: 0.1209 - accuracy: 0.9622 - val_loss: 0.1678 - val_accuracy: 0.9472\n",
      "Epoch 82/100\n",
      "139/139 [==============================] - 0s 2ms/step - loss: 0.1194 - accuracy: 0.9631 - val_loss: 0.1652 - val_accuracy: 0.9488\n",
      "Epoch 83/100\n",
      "139/139 [==============================] - 0s 2ms/step - loss: 0.1174 - accuracy: 0.9645 - val_loss: 0.1695 - val_accuracy: 0.9461\n",
      "Epoch 84/100\n",
      "139/139 [==============================] - 0s 2ms/step - loss: 0.1166 - accuracy: 0.9633 - val_loss: 0.1633 - val_accuracy: 0.9498\n",
      "Epoch 85/100\n",
      "139/139 [==============================] - 0s 2ms/step - loss: 0.1181 - accuracy: 0.9638 - val_loss: 0.1739 - val_accuracy: 0.9435\n",
      "Epoch 86/100\n",
      "139/139 [==============================] - 0s 2ms/step - loss: 0.1159 - accuracy: 0.9627 - val_loss: 0.1680 - val_accuracy: 0.9488\n",
      "Epoch 87/100\n",
      "139/139 [==============================] - 0s 3ms/step - loss: 0.1146 - accuracy: 0.9654 - val_loss: 0.1678 - val_accuracy: 0.9483\n",
      "Epoch 88/100\n",
      "139/139 [==============================] - 0s 2ms/step - loss: 0.1153 - accuracy: 0.9638 - val_loss: 0.1653 - val_accuracy: 0.9477\n",
      "Epoch 89/100\n",
      "139/139 [==============================] - 0s 2ms/step - loss: 0.1198 - accuracy: 0.9631 - val_loss: 0.1684 - val_accuracy: 0.9472\n",
      "Epoch 90/100\n",
      "139/139 [==============================] - 0s 2ms/step - loss: 0.1141 - accuracy: 0.9620 - val_loss: 0.1596 - val_accuracy: 0.9504\n",
      "Epoch 91/100\n",
      "139/139 [==============================] - 0s 2ms/step - loss: 0.1118 - accuracy: 0.9647 - val_loss: 0.1653 - val_accuracy: 0.9467\n",
      "Epoch 92/100\n",
      "139/139 [==============================] - 0s 2ms/step - loss: 0.1121 - accuracy: 0.9649 - val_loss: 0.1606 - val_accuracy: 0.9483\n",
      "Epoch 93/100\n",
      "139/139 [==============================] - 0s 2ms/step - loss: 0.1106 - accuracy: 0.9656 - val_loss: 0.1718 - val_accuracy: 0.9456\n",
      "Epoch 94/100\n",
      "139/139 [==============================] - 0s 2ms/step - loss: 0.1103 - accuracy: 0.9663 - val_loss: 0.1595 - val_accuracy: 0.9509\n",
      "Epoch 95/100\n",
      "139/139 [==============================] - 0s 2ms/step - loss: 0.1100 - accuracy: 0.9654 - val_loss: 0.1577 - val_accuracy: 0.9509\n",
      "Epoch 96/100\n",
      "139/139 [==============================] - 0s 2ms/step - loss: 0.1090 - accuracy: 0.9642 - val_loss: 0.1600 - val_accuracy: 0.9493\n",
      "Epoch 97/100\n",
      "139/139 [==============================] - 0s 2ms/step - loss: 0.1077 - accuracy: 0.9656 - val_loss: 0.1585 - val_accuracy: 0.9483\n",
      "Epoch 98/100\n",
      "139/139 [==============================] - 0s 2ms/step - loss: 0.1071 - accuracy: 0.9656 - val_loss: 0.1595 - val_accuracy: 0.9498\n",
      "Epoch 99/100\n",
      "139/139 [==============================] - 0s 2ms/step - loss: 0.1082 - accuracy: 0.9638 - val_loss: 0.1600 - val_accuracy: 0.9504\n",
      "Epoch 100/100\n",
      "139/139 [==============================] - 0s 2ms/step - loss: 0.1070 - accuracy: 0.9665 - val_loss: 0.1627 - val_accuracy: 0.9483\n"
     ]
    }
   ],
   "source": [
    "result = model.fit(X_train, y_train, epochs=100, validation_split=0.3)"
   ]
  },
  {
   "cell_type": "code",
   "execution_count": 36,
   "id": "15373886",
   "metadata": {},
   "outputs": [
    {
     "data": {
      "text/plain": [
       "[<matplotlib.lines.Line2D at 0x7f26f97bfc10>]"
      ]
     },
     "execution_count": 36,
     "metadata": {},
     "output_type": "execute_result"
    },
    {
     "data": {
      "image/png": "[encoded data removed]",
      "text/plain": [
       "<Figure size 640x480 with 1 Axes>"
      ]
     },
     "metadata": {},
     "output_type": "display_data"
    }
   ],
   "source": [
    "plt.plot(result.history['loss'], color=\"black\")\n",
    "plt.plot(result.history['val_loss'], color='yellow')"
   ]
  },
  {
   "cell_type": "code",
   "execution_count": 37,
   "id": "397ff69b",
   "metadata": {},
   "outputs": [
    {
     "data": {
      "text/plain": [
       "[<matplotlib.lines.Line2D at 0x7f26f9743b20>]"
      ]
     },
     "execution_count": 37,
     "metadata": {},
     "output_type": "execute_result"
    },
    {
     "data": {
      "image/png": "[encoded data removed]",
      "text/plain": [
       "<Figure size 640x480 with 1 Axes>"
      ]
     },
     "metadata": {},
     "output_type": "display_data"
    }
   ],
   "source": [
    "plt.plot(result.history['accuracy'], color='black' )\n",
    "plt.plot(result.history['val_accuracy'], color='yellow')"
   ]
  },
  {
   "cell_type": "markdown",
   "id": "43b0dbf1",
   "metadata": {},
   "source": [
    "# Hyper-parameter tuning"
   ]
  },
  {
   "cell_type": "code",
   "execution_count": 38,
   "id": "d2f3cbb1",
   "metadata": {},
   "outputs": [
    {
     "name": "stdout",
     "output_type": "stream",
     "text": [
      "INFO:tensorflow:Reloading Tuner from ./untitled_project/tuner0.json\n",
      "INFO:tensorflow:Oracle triggered exit\n"
     ]
    }
   ],
   "source": [
    "def build_model(hp):\n",
    "    model = keras.Sequential()\n",
    "    model.add(Dense(units=hp.Int('units_1', min_value=32, max_value=512, step=32),\n",
    "                                 activation=hp.Choice('activation_1', values=['relu', 'tanh']),\n",
    "                                 input_shape=(17,)))\n",
    "\n",
    "    # Tune the number of layers and nodes\n",
    "    for i in range(hp.Int('num_of_layers', min_value=1, max_value=5)):\n",
    "        model.add(Dense(units=hp.Int(f'units_{i+2}', min_value=32, max_value=512, step=32),\n",
    "                                     activation=hp.Choice(f'activation_{i+2}', values=['relu', 'tanh'])))\n",
    "\n",
    "    model.add(Dense(1, activation='sigmoid'))  # Output layer\n",
    "\n",
    "    # Tune the optimizer choice and learning rate\n",
    "    optimizer = hp.Choice('optimizer', values=['adam', 'rmsprop', 'adadelta'])\n",
    "    model.compile(optimizer=optimizer, loss='binary_crossentropy', metrics=['accuracy'])\n",
    "\n",
    "    return model\n",
    "\n",
    "# Perform hyperparameter tuning\n",
    "tuner = kt.Hyperband(build_model, \n",
    "                     objective='val_accuracy', \n",
    "                     max_epochs=10, \n",
    "                     factor=3)\n",
    "\n",
    "tuner.search(X_train, y_train, epochs=5, validation_data=(X_test, y_test))\n",
    "\n",
    "# Get the best model and its hyperparameters\n",
    "best_model = tuner.get_best_models(1)[0]\n",
    "best_hyperparameters = tuner.get_best_hyperparameters(1)[0]\n"
   ]
  },
  {
   "cell_type": "markdown",
   "id": "b4a582ae",
   "metadata": {},
   "source": [
    "### these are the best parameters and summary of the model"
   ]
  },
  {
   "cell_type": "code",
   "execution_count": 39,
   "id": "e2fe4e31",
   "metadata": {},
   "outputs": [
    {
     "name": "stdout",
     "output_type": "stream",
     "text": [
      "Best Model:\n",
      "Model: \"sequential\"\n",
      "_________________________________________________________________\n",
      " Layer (type)                Output Shape              Param #   \n",
      "=================================================================\n",
      " dense (Dense)               (None, 128)               2304      \n",
      "                                                                 \n",
      " dense_1 (Dense)             (None, 192)               24768     \n",
      "                                                                 \n",
      " dense_2 (Dense)             (None, 288)               55584     \n",
      "                                                                 \n",
      " dense_3 (Dense)             (None, 128)               36992     \n",
      "                                                                 \n",
      " dense_4 (Dense)             (None, 64)                8256      \n",
      "                                                                 \n",
      " dense_5 (Dense)             (None, 384)               24960     \n",
      "                                                                 \n",
      " dense_6 (Dense)             (None, 1)                 385       \n",
      "                                                                 \n",
      "=================================================================\n",
      "Total params: 153,249\n",
      "Trainable params: 153,249\n",
      "Non-trainable params: 0\n",
      "_________________________________________________________________\n",
      "\n",
      "Best Hyperparameters:\n",
      "units_1: 128\n",
      "activation_1: tanh\n",
      "num_of_layers: 5\n",
      "units_2: 192\n",
      "activation_2: tanh\n",
      "optimizer: adam\n",
      "units_3: 288\n",
      "activation_3: relu\n",
      "units_4: 128\n",
      "activation_4: relu\n",
      "units_5: 64\n",
      "activation_5: relu\n",
      "units_6: 384\n",
      "activation_6: tanh\n",
      "tuner/epochs: 10\n",
      "tuner/initial_epoch: 4\n",
      "tuner/bracket: 1\n",
      "tuner/round: 1\n",
      "tuner/trial_id: 0018\n"
     ]
    }
   ],
   "source": [
    "print(\"Best Model:\")\n",
    "best_model.summary()\n",
    "\n",
    "print(\"\\nBest Hyperparameters:\")\n",
    "for key, value in best_hyperparameters.values.items():\n",
    "    print(f\"{key}: {value}\")"
   ]
  },
  {
   "cell_type": "markdown",
   "id": "9f328502",
   "metadata": {},
   "source": [
    "### Get the values/ parameters from the result of hyperparameter tuning and build a Dense model and train again\n",
    "\n",
    "### And I'm using Early stopping because with the best parameters, model may result in overfit or underfit"
   ]
  },
  {
   "cell_type": "code",
   "execution_count": 49,
   "id": "4b78a089",
   "metadata": {},
   "outputs": [
    {
     "name": "stdout",
     "output_type": "stream",
     "text": [
      "Epoch 1/100\n",
      "198/198 [==============================] - 2s 4ms/step - loss: 0.3205 - accuracy: 0.8639 - val_loss: 0.2770 - val_accuracy: 0.8872\n",
      "Epoch 2/100\n",
      "198/198 [==============================] - 1s 3ms/step - loss: 0.2394 - accuracy: 0.9059 - val_loss: 0.2383 - val_accuracy: 0.9113\n",
      "Epoch 3/100\n",
      "198/198 [==============================] - 1s 3ms/step - loss: 0.1933 - accuracy: 0.9232 - val_loss: 0.1942 - val_accuracy: 0.9189\n",
      "Epoch 4/100\n",
      "198/198 [==============================] - 1s 3ms/step - loss: 0.1623 - accuracy: 0.9357 - val_loss: 0.2016 - val_accuracy: 0.9176\n",
      "Epoch 5/100\n",
      "198/198 [==============================] - 1s 3ms/step - loss: 0.1399 - accuracy: 0.9476 - val_loss: 0.1751 - val_accuracy: 0.9316\n",
      "Epoch 6/100\n",
      "198/198 [==============================] - 1s 3ms/step - loss: 0.1223 - accuracy: 0.9580 - val_loss: 0.1085 - val_accuracy: 0.9518\n",
      "Epoch 7/100\n",
      "198/198 [==============================] - 1s 3ms/step - loss: 0.1055 - accuracy: 0.9613 - val_loss: 0.1389 - val_accuracy: 0.9480\n",
      "Epoch 8/100\n",
      "198/198 [==============================] - 1s 3ms/step - loss: 0.0892 - accuracy: 0.9699 - val_loss: 0.1383 - val_accuracy: 0.9493\n",
      "Epoch 9/100\n",
      "198/198 [==============================] - 1s 3ms/step - loss: 0.0874 - accuracy: 0.9708 - val_loss: 0.1045 - val_accuracy: 0.9645\n",
      "Epoch 10/100\n",
      "198/198 [==============================] - 1s 3ms/step - loss: 0.0789 - accuracy: 0.9724 - val_loss: 0.1111 - val_accuracy: 0.9607\n",
      "Epoch 11/100\n",
      "198/198 [==============================] - 1s 3ms/step - loss: 0.0612 - accuracy: 0.9773 - val_loss: 0.0731 - val_accuracy: 0.9696\n",
      "Epoch 12/100\n",
      "198/198 [==============================] - 1s 3ms/step - loss: 0.0598 - accuracy: 0.9775 - val_loss: 0.1774 - val_accuracy: 0.9569\n",
      "Epoch 13/100\n",
      "198/198 [==============================] - 1s 3ms/step - loss: 0.0647 - accuracy: 0.9764 - val_loss: 0.0680 - val_accuracy: 0.9734\n",
      "Epoch 14/100\n",
      "198/198 [==============================] - 1s 3ms/step - loss: 0.0618 - accuracy: 0.9770 - val_loss: 0.0876 - val_accuracy: 0.9747\n",
      "Epoch 15/100\n",
      "198/198 [==============================] - 1s 3ms/step - loss: 0.0501 - accuracy: 0.9835 - val_loss: 0.0587 - val_accuracy: 0.9797\n",
      "Epoch 16/100\n",
      "198/198 [==============================] - 1s 3ms/step - loss: 0.0503 - accuracy: 0.9823 - val_loss: 0.1381 - val_accuracy: 0.9582\n",
      "Epoch 17/100\n",
      "198/198 [==============================] - 1s 3ms/step - loss: 0.0491 - accuracy: 0.9832 - val_loss: 0.0641 - val_accuracy: 0.9696\n",
      "Epoch 18/100\n",
      "198/198 [==============================] - 1s 3ms/step - loss: 0.0445 - accuracy: 0.9840 - val_loss: 0.0650 - val_accuracy: 0.9785\n",
      "Epoch 19/100\n",
      "198/198 [==============================] - 1s 3ms/step - loss: 0.0312 - accuracy: 0.9894 - val_loss: 0.0692 - val_accuracy: 0.9747\n",
      "Epoch 20/100\n",
      "198/198 [==============================] - 1s 3ms/step - loss: 0.0408 - accuracy: 0.9878 - val_loss: 0.0856 - val_accuracy: 0.9772\n"
     ]
    }
   ],
   "source": [
    "# Create a new sequential model with the best hyperparameters\n",
    "final_model = keras.Sequential()\n",
    "\n",
    "# Add layers based on the best hyperparameters\n",
    "final_model.add(keras.layers.Dense(units=128, activation='tanh', input_shape=(17,)))  # input_shape depends on your input data shape\n",
    "\n",
    "num_of_layers = best_hyperparameters.get('num_of_layers')\n",
    "\n",
    "for i in range(2, 2 + num_of_layers):\n",
    "    units_key = f'units_{i}'\n",
    "    activation_key = f'activation_{i}'\n",
    "    units = best_hyperparameters.get(units_key)\n",
    "    activation = best_hyperparameters.get(activation_key)\n",
    "\n",
    "    final_model.add(keras.layers.Dense(units=units, activation=activation))\n",
    "\n",
    "final_model.add(keras.layers.Dense(1, activation='sigmoid'))  # Output layer\n",
    "\n",
    "# Compile the model\n",
    "optimizer = best_hyperparameters.get('optimizer')\n",
    "final_model.compile(optimizer=optimizer, loss='binary_crossentropy', metrics=['accuracy'])\n",
    "\n",
    "# Define early stopping callback\n",
    "early_stopping = keras.callbacks.EarlyStopping(monitor='val_loss', patience=5, restore_best_weights=True)\n",
    "\n",
    "# Fit the model with early stopping\n",
    "result1 = final_model.fit(X_train, y_train, epochs=100, validation_data=(X_val, y_val), callbacks=[early_stopping])"
   ]
  },
  {
   "cell_type": "code",
   "execution_count": 50,
   "id": "1937326a",
   "metadata": {},
   "outputs": [
    {
     "name": "stdout",
     "output_type": "stream",
     "text": [
      "Model: \"sequential_3\"\n",
      "_________________________________________________________________\n",
      " Layer (type)                Output Shape              Param #   \n",
      "=================================================================\n",
      " dense_21 (Dense)            (None, 128)               2304      \n",
      "                                                                 \n",
      " dense_22 (Dense)            (None, 192)               24768     \n",
      "                                                                 \n",
      " dense_23 (Dense)            (None, 288)               55584     \n",
      "                                                                 \n",
      " dense_24 (Dense)            (None, 128)               36992     \n",
      "                                                                 \n",
      " dense_25 (Dense)            (None, 64)                8256      \n",
      "                                                                 \n",
      " dense_26 (Dense)            (None, 384)               24960     \n",
      "                                                                 \n",
      " dense_27 (Dense)            (None, 1)                 385       \n",
      "                                                                 \n",
      "=================================================================\n",
      "Total params: 153,249\n",
      "Trainable params: 153,249\n",
      "Non-trainable params: 0\n",
      "_________________________________________________________________\n"
     ]
    }
   ],
   "source": [
    "final_model.summary()"
   ]
  },
  {
   "cell_type": "code",
   "execution_count": 51,
   "id": "2696ba02",
   "metadata": {},
   "outputs": [
    {
     "data": {
      "text/plain": [
       "[<matplotlib.lines.Line2D at 0x7f26f9648190>]"
      ]
     },
     "execution_count": 51,
     "metadata": {},
     "output_type": "execute_result"
    },
    {
     "data": {
      "image/png": "[encoded data removed]",
      "text/plain": [
       "<Figure size 640x480 with 1 Axes>"
      ]
     },
     "metadata": {},
     "output_type": "display_data"
    }
   ],
   "source": [
    "plt.plot(result1.history['loss'], color='black')\n",
    "plt.plot(result1.history['val_loss'], color='yellow')"
   ]
  },
  {
   "cell_type": "code",
   "execution_count": 52,
   "id": "56889bff",
   "metadata": {},
   "outputs": [
    {
     "data": {
      "text/plain": [
       "[<matplotlib.lines.Line2D at 0x7f26d7ff9970>]"
      ]
     },
     "execution_count": 52,
     "metadata": {},
     "output_type": "execute_result"
    },
    {
     "data": {
      "image/png": "[encoded data removed]",
      "text/plain": [
       "<Figure size 640x480 with 1 Axes>"
      ]
     },
     "metadata": {},
     "output_type": "display_data"
    }
   ],
   "source": [
    "plt.plot(result1.history['accuracy'], color='black')\n",
    "plt.plot(result1.history['val_accuracy'], color='yellow')"
   ]
  },
  {
   "cell_type": "code",
   "execution_count": 53,
   "id": "177098e5",
   "metadata": {},
   "outputs": [
    {
     "name": "stdout",
     "output_type": "stream",
     "text": [
      "25/25 [==============================] - 0s 1ms/step\n",
      "FINAL MODEL 'ANN'\n",
      "Accuracy Score value: 0.9810\n",
      "              precision    recall  f1-score   support\n",
      "\n",
      "           0       0.98      0.98      0.98       377\n",
      "           1       0.98      0.99      0.98       413\n",
      "\n",
      "    accuracy                           0.98       790\n",
      "   macro avg       0.98      0.98      0.98       790\n",
      "weighted avg       0.98      0.98      0.98       790\n",
      "\n"
     ]
    }
   ],
   "source": [
    "# Predict on test data\n",
    "y_pred = final_model.predict(X_test)\n",
    "y_pred_classes = (y_pred > 0.5).astype(\"int32\")\n",
    "score = accuracy_score(y_test, y_pred_classes)\n",
    "cr = classification_report(y_test, y_pred_classes)\n",
    "\n",
    "print(\"FINAL MODEL 'ANN'\")\n",
    "print(\"Accuracy Score value: {:.4f}\".format(score))\n",
    "print(cr)"
   ]
  },
  {
   "cell_type": "code",
   "execution_count": 54,
   "id": "5d8cbf6c",
   "metadata": {},
   "outputs": [
    {
     "data": {
      "image/png": "[encoded data removed]",
      "text/plain": [
       "<Figure size 800x600 with 2 Axes>"
      ]
     },
     "metadata": {},
     "output_type": "display_data"
    }
   ],
   "source": [
    "# Compute the confusion matrix\n",
    "cm = confusion_matrix(y_test, y_pred_classes)\n",
    "\n",
    "# Define class labels\n",
    "class_labels = np.unique(y)\n",
    "\n",
    "# Plot the confusion matrix\n",
    "plt.figure(figsize=(8, 6))\n",
    "plt.imshow(cm, interpolation='nearest', cmap=plt.cm.Blues)\n",
    "plt.title('Confusion Matrix')\n",
    "plt.colorbar()\n",
    "tick_marks = np.arange(len(class_labels))\n",
    "plt.xticks(tick_marks, class_labels)\n",
    "plt.yticks(tick_marks, class_labels)\n",
    "plt.xlabel('Predicted Class')\n",
    "plt.ylabel('True Class')\n",
    "\n",
    "# Add labels to each cell\n",
    "thresh = cm.max() / 2.0\n",
    "for i, j in np.ndindex(cm.shape):\n",
    "    plt.text(j, i, format(cm[i, j], 'd'),\n",
    "             horizontalalignment=\"center\",\n",
    "             color=\"white\" if cm[i, j] > thresh else \"black\")\n",
    "\n",
    "plt.show()"
   ]
  },
  {
   "cell_type": "markdown",
   "id": "c18aef36",
   "metadata": {},
   "source": [
    "## So the best model of accuracy is : 98.10%"
   ]
  },
  {
   "cell_type": "code",
   "execution_count": null,
   "id": "40be70f3",
   "metadata": {},
   "outputs": [],
   "source": []
  },
  {
   "cell_type": "code",
   "execution_count": null,
   "id": "99917d97",
   "metadata": {},
   "outputs": [],
   "source": []
  }
 ],
 "metadata": {
  "kernelspec": {
   "display_name": "Python 3 (ipykernel)",
   "language": "python",
   "name": "python3"
  },
  "language_info": {
   "codemirror_mode": {
    "name": "ipython",
    "version": 3
   },
   "file_extension": ".py",
   "mimetype": "text/x-python",
   "name": "python",
   "nbconvert_exporter": "python",
   "pygments_lexer": "ipython3",
   "version": "3.9.16"
  },
  "vscode": {
   "interpreter": {
    "hash": "fe5057b33890e8dd303e21b19623a3798ffaa8a05dcdf7dd3a35472e2b83b2ee"
   }
  }
 },
 "nbformat": 4,
 "nbformat_minor": 5
}
